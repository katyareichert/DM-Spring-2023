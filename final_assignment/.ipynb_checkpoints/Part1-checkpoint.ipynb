{
 "cells": [
  {
   "cell_type": "markdown",
   "id": "c1795fc6",
   "metadata": {},
   "source": [
    "# Data Mining Coursework - Spring 2023\n",
    "\n",
    "Katerina Marie (Katya) Reichert - 33781583\n",
    "\n",
    "I worked and submitted alone :)"
   ]
  },
  {
   "cell_type": "markdown",
   "id": "516afee6",
   "metadata": {},
   "source": [
    "# Part 1: Nearest Neighbor Algorithm"
   ]
  },
  {
   "cell_type": "markdown",
   "id": "755cae82",
   "metadata": {},
   "source": [
    "# Section A\n",
    "\n",
    "You are required to write a Python code implementing the simplest Nearest Neighbour algorithm (that is, using just 1 neighbour), with the Minkowski distance, both discussed in lecture of week 1. \n",
    "\n",
    "Your code will read the power q appearing in the Mionkowski distance, and will classify each record from the test dataset based on the training dataset. Remember, to classify a record from the test set you need to find its nearest neighbour in the training set (this is the one which minimizes the distance to the test set record); take the class of the nearest neighbour as the predicted class for the test set record. \n",
    "\n",
    "After classifying all the records in the test set, your code needs to calculate and display the **accuracy, recall, precision, and F1 measure with respect to the class \"M\"**(which is assumed to be the positive class), of the predictions on the test dataset. Run your code to produce results first for **Manhattan distance** and then for **Euclidian distance**, which are particular cases of Minkowski distance (q=1, and q=2, see lecture week 1)."
   ]
  },
  {
   "cell_type": "code",
   "execution_count": 34,
   "id": "bfa13725",
   "metadata": {},
   "outputs": [],
   "source": [
    "import pandas as pd\n",
    "import numpy as np\n",
    "\n",
    "from sklearn.metrics import f1_score\n",
    "from sklearn.metrics import precision_recall_fscore_support\n",
    "from sklearn.metrics import accuracy_score\n",
    "\n",
    "import matplotlib.pyplot as plt\n",
    "import seaborn as sns\n",
    "\n",
    "import sys\n",
    "import os"
   ]
  },
  {
   "cell_type": "markdown",
   "id": "8e0de2e0",
   "metadata": {},
   "source": [
    "# Training Data"
   ]
  },
  {
   "cell_type": "markdown",
   "id": "c71dfe2e",
   "metadata": {},
   "source": [
    "### Read in training csv"
   ]
  },
  {
   "cell_type": "code",
   "execution_count": 2,
   "id": "8dc89b20",
   "metadata": {},
   "outputs": [
    {
     "name": "stdout",
     "output_type": "stream",
     "text": [
      "(139, 61)\n"
     ]
    },
    {
     "data": {
      "text/html": [
       "<div>\n",
       "<style scoped>\n",
       "    .dataframe tbody tr th:only-of-type {\n",
       "        vertical-align: middle;\n",
       "    }\n",
       "\n",
       "    .dataframe tbody tr th {\n",
       "        vertical-align: top;\n",
       "    }\n",
       "\n",
       "    .dataframe thead th {\n",
       "        text-align: right;\n",
       "    }\n",
       "</style>\n",
       "<table border=\"1\" class=\"dataframe\">\n",
       "  <thead>\n",
       "    <tr style=\"text-align: right;\">\n",
       "      <th></th>\n",
       "      <th>A1</th>\n",
       "      <th>A2</th>\n",
       "      <th>A3</th>\n",
       "      <th>A4</th>\n",
       "      <th>A5</th>\n",
       "      <th>A6</th>\n",
       "      <th>A7</th>\n",
       "      <th>A8</th>\n",
       "      <th>A9</th>\n",
       "      <th>A10</th>\n",
       "      <th>...</th>\n",
       "      <th>A52</th>\n",
       "      <th>A53</th>\n",
       "      <th>A54</th>\n",
       "      <th>A55</th>\n",
       "      <th>A56</th>\n",
       "      <th>A57</th>\n",
       "      <th>A58</th>\n",
       "      <th>A59</th>\n",
       "      <th>A60</th>\n",
       "      <th>Class</th>\n",
       "    </tr>\n",
       "  </thead>\n",
       "  <tbody>\n",
       "    <tr>\n",
       "      <th>0</th>\n",
       "      <td>0.0079</td>\n",
       "      <td>0.0086</td>\n",
       "      <td>0.0055</td>\n",
       "      <td>0.0250</td>\n",
       "      <td>0.0344</td>\n",
       "      <td>0.0546</td>\n",
       "      <td>0.0528</td>\n",
       "      <td>0.0958</td>\n",
       "      <td>0.1009</td>\n",
       "      <td>0.1240</td>\n",
       "      <td>...</td>\n",
       "      <td>0.0176</td>\n",
       "      <td>0.0127</td>\n",
       "      <td>0.0088</td>\n",
       "      <td>0.0098</td>\n",
       "      <td>0.0019</td>\n",
       "      <td>0.0059</td>\n",
       "      <td>0.0058</td>\n",
       "      <td>0.0059</td>\n",
       "      <td>0.0032</td>\n",
       "      <td>R</td>\n",
       "    </tr>\n",
       "    <tr>\n",
       "      <th>1</th>\n",
       "      <td>0.0599</td>\n",
       "      <td>0.0474</td>\n",
       "      <td>0.0498</td>\n",
       "      <td>0.0387</td>\n",
       "      <td>0.1026</td>\n",
       "      <td>0.0773</td>\n",
       "      <td>0.0853</td>\n",
       "      <td>0.0447</td>\n",
       "      <td>0.1094</td>\n",
       "      <td>0.0351</td>\n",
       "      <td>...</td>\n",
       "      <td>0.0013</td>\n",
       "      <td>0.0005</td>\n",
       "      <td>0.0227</td>\n",
       "      <td>0.0209</td>\n",
       "      <td>0.0081</td>\n",
       "      <td>0.0117</td>\n",
       "      <td>0.0114</td>\n",
       "      <td>0.0112</td>\n",
       "      <td>0.0100</td>\n",
       "      <td>M</td>\n",
       "    </tr>\n",
       "    <tr>\n",
       "      <th>2</th>\n",
       "      <td>0.0093</td>\n",
       "      <td>0.0269</td>\n",
       "      <td>0.0217</td>\n",
       "      <td>0.0339</td>\n",
       "      <td>0.0305</td>\n",
       "      <td>0.1172</td>\n",
       "      <td>0.1450</td>\n",
       "      <td>0.0638</td>\n",
       "      <td>0.0740</td>\n",
       "      <td>0.1360</td>\n",
       "      <td>...</td>\n",
       "      <td>0.0212</td>\n",
       "      <td>0.0091</td>\n",
       "      <td>0.0056</td>\n",
       "      <td>0.0086</td>\n",
       "      <td>0.0092</td>\n",
       "      <td>0.0070</td>\n",
       "      <td>0.0116</td>\n",
       "      <td>0.0060</td>\n",
       "      <td>0.0110</td>\n",
       "      <td>R</td>\n",
       "    </tr>\n",
       "    <tr>\n",
       "      <th>3</th>\n",
       "      <td>0.0151</td>\n",
       "      <td>0.0320</td>\n",
       "      <td>0.0599</td>\n",
       "      <td>0.1050</td>\n",
       "      <td>0.1163</td>\n",
       "      <td>0.1734</td>\n",
       "      <td>0.1679</td>\n",
       "      <td>0.1119</td>\n",
       "      <td>0.0889</td>\n",
       "      <td>0.1205</td>\n",
       "      <td>...</td>\n",
       "      <td>0.0061</td>\n",
       "      <td>0.0015</td>\n",
       "      <td>0.0084</td>\n",
       "      <td>0.0128</td>\n",
       "      <td>0.0054</td>\n",
       "      <td>0.0011</td>\n",
       "      <td>0.0019</td>\n",
       "      <td>0.0023</td>\n",
       "      <td>0.0062</td>\n",
       "      <td>R</td>\n",
       "    </tr>\n",
       "    <tr>\n",
       "      <th>4</th>\n",
       "      <td>0.0317</td>\n",
       "      <td>0.0956</td>\n",
       "      <td>0.1321</td>\n",
       "      <td>0.1408</td>\n",
       "      <td>0.1674</td>\n",
       "      <td>0.1710</td>\n",
       "      <td>0.0731</td>\n",
       "      <td>0.1401</td>\n",
       "      <td>0.2083</td>\n",
       "      <td>0.3513</td>\n",
       "      <td>...</td>\n",
       "      <td>0.0201</td>\n",
       "      <td>0.0248</td>\n",
       "      <td>0.0131</td>\n",
       "      <td>0.0070</td>\n",
       "      <td>0.0138</td>\n",
       "      <td>0.0092</td>\n",
       "      <td>0.0143</td>\n",
       "      <td>0.0036</td>\n",
       "      <td>0.0103</td>\n",
       "      <td>R</td>\n",
       "    </tr>\n",
       "  </tbody>\n",
       "</table>\n",
       "<p>5 rows × 61 columns</p>\n",
       "</div>"
      ],
      "text/plain": [
       "       A1      A2      A3      A4      A5      A6      A7      A8      A9  \\\n",
       "0  0.0079  0.0086  0.0055  0.0250  0.0344  0.0546  0.0528  0.0958  0.1009   \n",
       "1  0.0599  0.0474  0.0498  0.0387  0.1026  0.0773  0.0853  0.0447  0.1094   \n",
       "2  0.0093  0.0269  0.0217  0.0339  0.0305  0.1172  0.1450  0.0638  0.0740   \n",
       "3  0.0151  0.0320  0.0599  0.1050  0.1163  0.1734  0.1679  0.1119  0.0889   \n",
       "4  0.0317  0.0956  0.1321  0.1408  0.1674  0.1710  0.0731  0.1401  0.2083   \n",
       "\n",
       "      A10  ...     A52     A53     A54     A55     A56     A57     A58  \\\n",
       "0  0.1240  ...  0.0176  0.0127  0.0088  0.0098  0.0019  0.0059  0.0058   \n",
       "1  0.0351  ...  0.0013  0.0005  0.0227  0.0209  0.0081  0.0117  0.0114   \n",
       "2  0.1360  ...  0.0212  0.0091  0.0056  0.0086  0.0092  0.0070  0.0116   \n",
       "3  0.1205  ...  0.0061  0.0015  0.0084  0.0128  0.0054  0.0011  0.0019   \n",
       "4  0.3513  ...  0.0201  0.0248  0.0131  0.0070  0.0138  0.0092  0.0143   \n",
       "\n",
       "      A59     A60  Class  \n",
       "0  0.0059  0.0032      R  \n",
       "1  0.0112  0.0100      M  \n",
       "2  0.0060  0.0110      R  \n",
       "3  0.0023  0.0062      R  \n",
       "4  0.0036  0.0103      R  \n",
       "\n",
       "[5 rows x 61 columns]"
      ]
     },
     "execution_count": 2,
     "metadata": {},
     "output_type": "execute_result"
    }
   ],
   "source": [
    "df = pd.read_csv(os.path.join('csv/', 'sonar_train.csv'))\n",
    "print(df.shape)\n",
    "df.head()"
   ]
  },
  {
   "cell_type": "markdown",
   "id": "f1c30f28",
   "metadata": {},
   "source": [
    "Sort training data in ascending order for easier searching"
   ]
  },
  {
   "cell_type": "code",
   "execution_count": 3,
   "id": "b60629d2",
   "metadata": {},
   "outputs": [
    {
     "data": {
      "text/html": [
       "<div>\n",
       "<style scoped>\n",
       "    .dataframe tbody tr th:only-of-type {\n",
       "        vertical-align: middle;\n",
       "    }\n",
       "\n",
       "    .dataframe tbody tr th {\n",
       "        vertical-align: top;\n",
       "    }\n",
       "\n",
       "    .dataframe thead th {\n",
       "        text-align: right;\n",
       "    }\n",
       "</style>\n",
       "<table border=\"1\" class=\"dataframe\">\n",
       "  <thead>\n",
       "    <tr style=\"text-align: right;\">\n",
       "      <th></th>\n",
       "      <th>A1</th>\n",
       "      <th>A2</th>\n",
       "      <th>A3</th>\n",
       "      <th>A4</th>\n",
       "      <th>A5</th>\n",
       "      <th>A6</th>\n",
       "      <th>A7</th>\n",
       "      <th>A8</th>\n",
       "      <th>A9</th>\n",
       "      <th>A10</th>\n",
       "      <th>...</th>\n",
       "      <th>A52</th>\n",
       "      <th>A53</th>\n",
       "      <th>A54</th>\n",
       "      <th>A55</th>\n",
       "      <th>A56</th>\n",
       "      <th>A57</th>\n",
       "      <th>A58</th>\n",
       "      <th>A59</th>\n",
       "      <th>A60</th>\n",
       "      <th>Class</th>\n",
       "    </tr>\n",
       "  </thead>\n",
       "  <tbody>\n",
       "    <tr>\n",
       "      <th>136</th>\n",
       "      <td>0.0015</td>\n",
       "      <td>0.0186</td>\n",
       "      <td>0.0289</td>\n",
       "      <td>0.0195</td>\n",
       "      <td>0.0515</td>\n",
       "      <td>0.0817</td>\n",
       "      <td>0.1005</td>\n",
       "      <td>0.0124</td>\n",
       "      <td>0.1168</td>\n",
       "      <td>0.1476</td>\n",
       "      <td>...</td>\n",
       "      <td>0.0108</td>\n",
       "      <td>0.0075</td>\n",
       "      <td>0.0089</td>\n",
       "      <td>0.0036</td>\n",
       "      <td>0.0029</td>\n",
       "      <td>0.0013</td>\n",
       "      <td>0.0010</td>\n",
       "      <td>0.0032</td>\n",
       "      <td>0.0047</td>\n",
       "      <td>M</td>\n",
       "    </tr>\n",
       "    <tr>\n",
       "      <th>66</th>\n",
       "      <td>0.0025</td>\n",
       "      <td>0.0309</td>\n",
       "      <td>0.0171</td>\n",
       "      <td>0.0228</td>\n",
       "      <td>0.0434</td>\n",
       "      <td>0.1224</td>\n",
       "      <td>0.1947</td>\n",
       "      <td>0.1661</td>\n",
       "      <td>0.1368</td>\n",
       "      <td>0.1430</td>\n",
       "      <td>...</td>\n",
       "      <td>0.0149</td>\n",
       "      <td>0.0077</td>\n",
       "      <td>0.0036</td>\n",
       "      <td>0.0114</td>\n",
       "      <td>0.0085</td>\n",
       "      <td>0.0101</td>\n",
       "      <td>0.0016</td>\n",
       "      <td>0.0028</td>\n",
       "      <td>0.0014</td>\n",
       "      <td>R</td>\n",
       "    </tr>\n",
       "    <tr>\n",
       "      <th>40</th>\n",
       "      <td>0.0036</td>\n",
       "      <td>0.0078</td>\n",
       "      <td>0.0092</td>\n",
       "      <td>0.0387</td>\n",
       "      <td>0.0530</td>\n",
       "      <td>0.1197</td>\n",
       "      <td>0.1243</td>\n",
       "      <td>0.1026</td>\n",
       "      <td>0.1239</td>\n",
       "      <td>0.0888</td>\n",
       "      <td>...</td>\n",
       "      <td>0.0119</td>\n",
       "      <td>0.0055</td>\n",
       "      <td>0.0035</td>\n",
       "      <td>0.0036</td>\n",
       "      <td>0.0004</td>\n",
       "      <td>0.0018</td>\n",
       "      <td>0.0049</td>\n",
       "      <td>0.0024</td>\n",
       "      <td>0.0016</td>\n",
       "      <td>R</td>\n",
       "    </tr>\n",
       "    <tr>\n",
       "      <th>12</th>\n",
       "      <td>0.0050</td>\n",
       "      <td>0.0017</td>\n",
       "      <td>0.0270</td>\n",
       "      <td>0.0450</td>\n",
       "      <td>0.0958</td>\n",
       "      <td>0.0830</td>\n",
       "      <td>0.0879</td>\n",
       "      <td>0.1220</td>\n",
       "      <td>0.1977</td>\n",
       "      <td>0.2282</td>\n",
       "      <td>...</td>\n",
       "      <td>0.0165</td>\n",
       "      <td>0.0056</td>\n",
       "      <td>0.0010</td>\n",
       "      <td>0.0027</td>\n",
       "      <td>0.0062</td>\n",
       "      <td>0.0024</td>\n",
       "      <td>0.0063</td>\n",
       "      <td>0.0017</td>\n",
       "      <td>0.0028</td>\n",
       "      <td>M</td>\n",
       "    </tr>\n",
       "    <tr>\n",
       "      <th>7</th>\n",
       "      <td>0.0065</td>\n",
       "      <td>0.0122</td>\n",
       "      <td>0.0068</td>\n",
       "      <td>0.0108</td>\n",
       "      <td>0.0217</td>\n",
       "      <td>0.0284</td>\n",
       "      <td>0.0527</td>\n",
       "      <td>0.0575</td>\n",
       "      <td>0.1054</td>\n",
       "      <td>0.1109</td>\n",
       "      <td>...</td>\n",
       "      <td>0.0069</td>\n",
       "      <td>0.0025</td>\n",
       "      <td>0.0027</td>\n",
       "      <td>0.0052</td>\n",
       "      <td>0.0036</td>\n",
       "      <td>0.0026</td>\n",
       "      <td>0.0036</td>\n",
       "      <td>0.0006</td>\n",
       "      <td>0.0035</td>\n",
       "      <td>R</td>\n",
       "    </tr>\n",
       "  </tbody>\n",
       "</table>\n",
       "<p>5 rows × 61 columns</p>\n",
       "</div>"
      ],
      "text/plain": [
       "         A1      A2      A3      A4      A5      A6      A7      A8      A9  \\\n",
       "136  0.0015  0.0186  0.0289  0.0195  0.0515  0.0817  0.1005  0.0124  0.1168   \n",
       "66   0.0025  0.0309  0.0171  0.0228  0.0434  0.1224  0.1947  0.1661  0.1368   \n",
       "40   0.0036  0.0078  0.0092  0.0387  0.0530  0.1197  0.1243  0.1026  0.1239   \n",
       "12   0.0050  0.0017  0.0270  0.0450  0.0958  0.0830  0.0879  0.1220  0.1977   \n",
       "7    0.0065  0.0122  0.0068  0.0108  0.0217  0.0284  0.0527  0.0575  0.1054   \n",
       "\n",
       "        A10  ...     A52     A53     A54     A55     A56     A57     A58  \\\n",
       "136  0.1476  ...  0.0108  0.0075  0.0089  0.0036  0.0029  0.0013  0.0010   \n",
       "66   0.1430  ...  0.0149  0.0077  0.0036  0.0114  0.0085  0.0101  0.0016   \n",
       "40   0.0888  ...  0.0119  0.0055  0.0035  0.0036  0.0004  0.0018  0.0049   \n",
       "12   0.2282  ...  0.0165  0.0056  0.0010  0.0027  0.0062  0.0024  0.0063   \n",
       "7    0.1109  ...  0.0069  0.0025  0.0027  0.0052  0.0036  0.0026  0.0036   \n",
       "\n",
       "        A59     A60  Class  \n",
       "136  0.0032  0.0047      M  \n",
       "66   0.0028  0.0014      R  \n",
       "40   0.0024  0.0016      R  \n",
       "12   0.0017  0.0028      M  \n",
       "7    0.0006  0.0035      R  \n",
       "\n",
       "[5 rows x 61 columns]"
      ]
     },
     "execution_count": 3,
     "metadata": {},
     "output_type": "execute_result"
    }
   ],
   "source": [
    "df.sort_values(by=['A' + str(x) for x in range(1,61)], inplace=True)\n",
    "df.head()"
   ]
  },
  {
   "cell_type": "markdown",
   "id": "b205565f",
   "metadata": {},
   "source": [
    "No additional preprocessing is required for the data, as it is all numerical data and appropriately scaled. Since we are not looking to finetune any hyperparameters for the model, we don't need to do cross validation or model testing with the training data. We can go directly to final predictions on the test data."
   ]
  },
  {
   "cell_type": "markdown",
   "id": "42abca7a",
   "metadata": {},
   "source": [
    "## Model Creation"
   ]
  },
  {
   "cell_type": "markdown",
   "id": "5951f99b",
   "metadata": {},
   "source": [
    "### Create function for calculating the Minkowski distance\n",
    "\n",
    "I added an optional parameter of q, so the user can easily change this. It defaults to q=1 for Manhattan distance"
   ]
  },
  {
   "cell_type": "code",
   "execution_count": 4,
   "id": "3555db94",
   "metadata": {},
   "outputs": [],
   "source": [
    "def Minkowski(vec1, vec2, q=1):\n",
    "    vec1, vec2 = np.array(vec1), np.array(vec2)\n",
    "    return np.sum(np.abs(vec1 - vec2)**q)**(1/q)"
   ]
  },
  {
   "cell_type": "markdown",
   "id": "c81de126",
   "metadata": {},
   "source": [
    "### Create nearest-neighbor prediction function\n",
    "\n",
    "__Input__: \n",
    "\n",
    "- examples: Pandas DataFrame -- the examples to create predictions on, where each example has a shape of (1, 60)\n",
    "- q (optional): power for Minkowski Distance (defaults to Manhattan distance)\n",
    "\n",
    "__Output__: List[str] -- the corresponding predictions in order "
   ]
  },
  {
   "cell_type": "code",
   "execution_count": 5,
   "id": "256330b2",
   "metadata": {},
   "outputs": [],
   "source": [
    "def predict_class(examples, q=1):\n",
    "    \n",
    "    predictions = []\n",
    "    \n",
    "    for i, row in examples.iterrows():\n",
    "        \n",
    "        nn_class, distance = None, 99999999999999999999\n",
    "        \n",
    "        for j, comp in df.iterrows():\n",
    "            \n",
    "            d = Minkowski(row, comp[:-1], q)\n",
    "            \n",
    "            if d < distance:\n",
    "                nn_class, distance = comp[-1], d\n",
    "                \n",
    "        predictions.append(nn_class)\n",
    "    \n",
    "    return predictions"
   ]
  },
  {
   "cell_type": "markdown",
   "id": "fbec631d",
   "metadata": {},
   "source": [
    "## Predictions"
   ]
  },
  {
   "cell_type": "markdown",
   "id": "c0360ed3",
   "metadata": {},
   "source": [
    "### Read in test data"
   ]
  },
  {
   "cell_type": "code",
   "execution_count": 6,
   "id": "7b7803c8",
   "metadata": {},
   "outputs": [
    {
     "name": "stdout",
     "output_type": "stream",
     "text": [
      "(69, 61)\n"
     ]
    },
    {
     "data": {
      "text/html": [
       "<div>\n",
       "<style scoped>\n",
       "    .dataframe tbody tr th:only-of-type {\n",
       "        vertical-align: middle;\n",
       "    }\n",
       "\n",
       "    .dataframe tbody tr th {\n",
       "        vertical-align: top;\n",
       "    }\n",
       "\n",
       "    .dataframe thead th {\n",
       "        text-align: right;\n",
       "    }\n",
       "</style>\n",
       "<table border=\"1\" class=\"dataframe\">\n",
       "  <thead>\n",
       "    <tr style=\"text-align: right;\">\n",
       "      <th></th>\n",
       "      <th>A1</th>\n",
       "      <th>A2</th>\n",
       "      <th>A3</th>\n",
       "      <th>A4</th>\n",
       "      <th>A5</th>\n",
       "      <th>A6</th>\n",
       "      <th>A7</th>\n",
       "      <th>A8</th>\n",
       "      <th>A9</th>\n",
       "      <th>A10</th>\n",
       "      <th>...</th>\n",
       "      <th>A52</th>\n",
       "      <th>A53</th>\n",
       "      <th>A54</th>\n",
       "      <th>A55</th>\n",
       "      <th>A56</th>\n",
       "      <th>A57</th>\n",
       "      <th>A58</th>\n",
       "      <th>A59</th>\n",
       "      <th>A60</th>\n",
       "      <th>Class</th>\n",
       "    </tr>\n",
       "  </thead>\n",
       "  <tbody>\n",
       "    <tr>\n",
       "      <th>0</th>\n",
       "      <td>0.0125</td>\n",
       "      <td>0.0152</td>\n",
       "      <td>0.0218</td>\n",
       "      <td>0.0175</td>\n",
       "      <td>0.0362</td>\n",
       "      <td>0.0696</td>\n",
       "      <td>0.0873</td>\n",
       "      <td>0.0616</td>\n",
       "      <td>0.1252</td>\n",
       "      <td>0.1302</td>\n",
       "      <td>...</td>\n",
       "      <td>0.0041</td>\n",
       "      <td>0.0074</td>\n",
       "      <td>0.0030</td>\n",
       "      <td>0.0050</td>\n",
       "      <td>0.0048</td>\n",
       "      <td>0.0017</td>\n",
       "      <td>0.0041</td>\n",
       "      <td>0.0086</td>\n",
       "      <td>0.0058</td>\n",
       "      <td>R</td>\n",
       "    </tr>\n",
       "    <tr>\n",
       "      <th>1</th>\n",
       "      <td>0.0530</td>\n",
       "      <td>0.0885</td>\n",
       "      <td>0.1997</td>\n",
       "      <td>0.2604</td>\n",
       "      <td>0.3225</td>\n",
       "      <td>0.2247</td>\n",
       "      <td>0.0617</td>\n",
       "      <td>0.2287</td>\n",
       "      <td>0.0950</td>\n",
       "      <td>0.0740</td>\n",
       "      <td>...</td>\n",
       "      <td>0.0244</td>\n",
       "      <td>0.0199</td>\n",
       "      <td>0.0257</td>\n",
       "      <td>0.0082</td>\n",
       "      <td>0.0151</td>\n",
       "      <td>0.0171</td>\n",
       "      <td>0.0146</td>\n",
       "      <td>0.0134</td>\n",
       "      <td>0.0056</td>\n",
       "      <td>M</td>\n",
       "    </tr>\n",
       "    <tr>\n",
       "      <th>2</th>\n",
       "      <td>0.0368</td>\n",
       "      <td>0.0279</td>\n",
       "      <td>0.0103</td>\n",
       "      <td>0.0566</td>\n",
       "      <td>0.0759</td>\n",
       "      <td>0.0679</td>\n",
       "      <td>0.0970</td>\n",
       "      <td>0.1473</td>\n",
       "      <td>0.2164</td>\n",
       "      <td>0.2544</td>\n",
       "      <td>...</td>\n",
       "      <td>0.0105</td>\n",
       "      <td>0.0024</td>\n",
       "      <td>0.0018</td>\n",
       "      <td>0.0057</td>\n",
       "      <td>0.0092</td>\n",
       "      <td>0.0009</td>\n",
       "      <td>0.0086</td>\n",
       "      <td>0.0110</td>\n",
       "      <td>0.0052</td>\n",
       "      <td>M</td>\n",
       "    </tr>\n",
       "    <tr>\n",
       "      <th>3</th>\n",
       "      <td>0.0164</td>\n",
       "      <td>0.0173</td>\n",
       "      <td>0.0347</td>\n",
       "      <td>0.0070</td>\n",
       "      <td>0.0187</td>\n",
       "      <td>0.0671</td>\n",
       "      <td>0.1056</td>\n",
       "      <td>0.0697</td>\n",
       "      <td>0.0962</td>\n",
       "      <td>0.0251</td>\n",
       "      <td>...</td>\n",
       "      <td>0.0090</td>\n",
       "      <td>0.0223</td>\n",
       "      <td>0.0179</td>\n",
       "      <td>0.0084</td>\n",
       "      <td>0.0068</td>\n",
       "      <td>0.0032</td>\n",
       "      <td>0.0035</td>\n",
       "      <td>0.0056</td>\n",
       "      <td>0.0040</td>\n",
       "      <td>R</td>\n",
       "    </tr>\n",
       "    <tr>\n",
       "      <th>4</th>\n",
       "      <td>0.0216</td>\n",
       "      <td>0.0124</td>\n",
       "      <td>0.0174</td>\n",
       "      <td>0.0152</td>\n",
       "      <td>0.0608</td>\n",
       "      <td>0.1026</td>\n",
       "      <td>0.1139</td>\n",
       "      <td>0.0877</td>\n",
       "      <td>0.1160</td>\n",
       "      <td>0.0866</td>\n",
       "      <td>...</td>\n",
       "      <td>0.0052</td>\n",
       "      <td>0.0049</td>\n",
       "      <td>0.0096</td>\n",
       "      <td>0.0134</td>\n",
       "      <td>0.0122</td>\n",
       "      <td>0.0047</td>\n",
       "      <td>0.0018</td>\n",
       "      <td>0.0006</td>\n",
       "      <td>0.0023</td>\n",
       "      <td>R</td>\n",
       "    </tr>\n",
       "  </tbody>\n",
       "</table>\n",
       "<p>5 rows × 61 columns</p>\n",
       "</div>"
      ],
      "text/plain": [
       "       A1      A2      A3      A4      A5      A6      A7      A8      A9  \\\n",
       "0  0.0125  0.0152  0.0218  0.0175  0.0362  0.0696  0.0873  0.0616  0.1252   \n",
       "1  0.0530  0.0885  0.1997  0.2604  0.3225  0.2247  0.0617  0.2287  0.0950   \n",
       "2  0.0368  0.0279  0.0103  0.0566  0.0759  0.0679  0.0970  0.1473  0.2164   \n",
       "3  0.0164  0.0173  0.0347  0.0070  0.0187  0.0671  0.1056  0.0697  0.0962   \n",
       "4  0.0216  0.0124  0.0174  0.0152  0.0608  0.1026  0.1139  0.0877  0.1160   \n",
       "\n",
       "      A10  ...     A52     A53     A54     A55     A56     A57     A58  \\\n",
       "0  0.1302  ...  0.0041  0.0074  0.0030  0.0050  0.0048  0.0017  0.0041   \n",
       "1  0.0740  ...  0.0244  0.0199  0.0257  0.0082  0.0151  0.0171  0.0146   \n",
       "2  0.2544  ...  0.0105  0.0024  0.0018  0.0057  0.0092  0.0009  0.0086   \n",
       "3  0.0251  ...  0.0090  0.0223  0.0179  0.0084  0.0068  0.0032  0.0035   \n",
       "4  0.0866  ...  0.0052  0.0049  0.0096  0.0134  0.0122  0.0047  0.0018   \n",
       "\n",
       "      A59     A60  Class  \n",
       "0  0.0086  0.0058      R  \n",
       "1  0.0134  0.0056      M  \n",
       "2  0.0110  0.0052      M  \n",
       "3  0.0056  0.0040      R  \n",
       "4  0.0006  0.0023      R  \n",
       "\n",
       "[5 rows x 61 columns]"
      ]
     },
     "execution_count": 6,
     "metadata": {},
     "output_type": "execute_result"
    }
   ],
   "source": [
    "test_df = pd.read_csv(os.path.join('csv/', 'sonar_test.csv'))\n",
    "print(test_df.shape)\n",
    "test_df.head()"
   ]
  },
  {
   "cell_type": "markdown",
   "id": "dd586a1f",
   "metadata": {},
   "source": [
    "### Create Predictions"
   ]
  },
  {
   "cell_type": "markdown",
   "id": "54712461",
   "metadata": {},
   "source": [
    "Run prediction code on train dataset for **Manhattan Distance**"
   ]
  },
  {
   "cell_type": "code",
   "execution_count": 7,
   "id": "c76946b1",
   "metadata": {},
   "outputs": [],
   "source": [
    "m_predictions = predict_class(test_df.drop(columns='Class'))"
   ]
  },
  {
   "cell_type": "markdown",
   "id": "14440fbe",
   "metadata": {},
   "source": [
    "Run prediction code on train dataset for **Euclidean Distance**"
   ]
  },
  {
   "cell_type": "code",
   "execution_count": 8,
   "id": "5c284ea0",
   "metadata": {},
   "outputs": [],
   "source": [
    "e_predictions = predict_class(test_df.drop(columns='Class'), q=2)"
   ]
  },
  {
   "cell_type": "markdown",
   "id": "47462a95",
   "metadata": {},
   "source": [
    "## Result Analysis"
   ]
  },
  {
   "cell_type": "markdown",
   "id": "3d0c7a56",
   "metadata": {},
   "source": [
    "Make a cleaner dataframe for visualization"
   ]
  },
  {
   "cell_type": "code",
   "execution_count": 9,
   "id": "d0e07894",
   "metadata": {},
   "outputs": [
    {
     "data": {
      "text/html": [
       "<div>\n",
       "<style scoped>\n",
       "    .dataframe tbody tr th:only-of-type {\n",
       "        vertical-align: middle;\n",
       "    }\n",
       "\n",
       "    .dataframe tbody tr th {\n",
       "        vertical-align: top;\n",
       "    }\n",
       "\n",
       "    .dataframe thead th {\n",
       "        text-align: right;\n",
       "    }\n",
       "</style>\n",
       "<table border=\"1\" class=\"dataframe\">\n",
       "  <thead>\n",
       "    <tr style=\"text-align: right;\">\n",
       "      <th></th>\n",
       "      <th>Class</th>\n",
       "      <th>Manhattan Distance</th>\n",
       "      <th>Euclidean Distance</th>\n",
       "    </tr>\n",
       "  </thead>\n",
       "  <tbody>\n",
       "    <tr>\n",
       "      <th>0</th>\n",
       "      <td>R</td>\n",
       "      <td>R</td>\n",
       "      <td>R</td>\n",
       "    </tr>\n",
       "    <tr>\n",
       "      <th>1</th>\n",
       "      <td>M</td>\n",
       "      <td>M</td>\n",
       "      <td>M</td>\n",
       "    </tr>\n",
       "    <tr>\n",
       "      <th>2</th>\n",
       "      <td>M</td>\n",
       "      <td>M</td>\n",
       "      <td>M</td>\n",
       "    </tr>\n",
       "    <tr>\n",
       "      <th>3</th>\n",
       "      <td>R</td>\n",
       "      <td>R</td>\n",
       "      <td>R</td>\n",
       "    </tr>\n",
       "    <tr>\n",
       "      <th>4</th>\n",
       "      <td>R</td>\n",
       "      <td>R</td>\n",
       "      <td>R</td>\n",
       "    </tr>\n",
       "  </tbody>\n",
       "</table>\n",
       "</div>"
      ],
      "text/plain": [
       "  Class Manhattan Distance Euclidean Distance\n",
       "0     R                  R                  R\n",
       "1     M                  M                  M\n",
       "2     M                  M                  M\n",
       "3     R                  R                  R\n",
       "4     R                  R                  R"
      ]
     },
     "execution_count": 9,
     "metadata": {},
     "output_type": "execute_result"
    }
   ],
   "source": [
    "results_df = test_df.drop(columns=['A' + str(x) for x in range(1,61)])\n",
    "\n",
    "results_df['Manhattan Distance'] = m_predictions\n",
    "results_df['Euclidean Distance'] = e_predictions\n",
    "\n",
    "results_df.head()"
   ]
  },
  {
   "cell_type": "markdown",
   "id": "eba23ae0",
   "metadata": {},
   "source": [
    "For each, display the accuracy, recall, precision, and F1 measure with respect to the class \"M\""
   ]
  },
  {
   "cell_type": "markdown",
   "id": "e762979a",
   "metadata": {},
   "source": [
    "#### Accuracy function:"
   ]
  },
  {
   "cell_type": "code",
   "execution_count": 10,
   "id": "7cd929b6",
   "metadata": {},
   "outputs": [],
   "source": [
    "def accuracy(actual, pred):\n",
    "    return sum(map(lambda x, y: int(x == y), actual, pred))/len(actual)"
   ]
  },
  {
   "cell_type": "markdown",
   "id": "063d8c14",
   "metadata": {},
   "source": [
    "#### Precision function:\n",
    "\n",
    "Precision = TruePositives / (TruePositives + FalsePositives) with \"M\" as positive class"
   ]
  },
  {
   "cell_type": "code",
   "execution_count": 11,
   "id": "4631ec55",
   "metadata": {},
   "outputs": [],
   "source": [
    "def precision(df, col_name):\n",
    "    \n",
    "    actual = df.loc[df[col_name] == 'M']['Class']\n",
    "    pred = df.loc[df[col_name] == 'M'][col_name]\n",
    "    \n",
    "    true_pos = sum(map(lambda x, y: int(x == y), actual, pred))/len(actual)\n",
    "    false_pos = sum(map(lambda x, y: int(x != y), actual, pred))/len(actual)\n",
    "    \n",
    "    return true_pos/(true_pos + false_pos)"
   ]
  },
  {
   "cell_type": "markdown",
   "id": "6d236d24",
   "metadata": {},
   "source": [
    "#### Recall function:\n",
    "\n",
    "Recall = TruePositives / (TruePositives + FalseNegatives)"
   ]
  },
  {
   "cell_type": "code",
   "execution_count": 12,
   "id": "5052b7e1",
   "metadata": {},
   "outputs": [],
   "source": [
    "def recall(df, col_name):\n",
    "    \n",
    "    actual = df.loc[df['Class'] == 'M']['Class']\n",
    "    pred = df.loc[df['Class'] == 'M'][col_name]\n",
    "    \n",
    "    true_pos = sum(map(lambda x, y: int(x == y), actual, pred))/len(actual)\n",
    "    false_neg = sum(map(lambda x, y: int(x != y), actual, pred))/len(actual)\n",
    "    \n",
    "    return true_pos/(true_pos + false_neg)"
   ]
  },
  {
   "cell_type": "markdown",
   "id": "6a73cb1d",
   "metadata": {},
   "source": [
    "#### F1 Measure function:\n",
    "\n",
    "F1-Measure = (2 * Precision * Recall) / (Precision + Recall)"
   ]
  },
  {
   "cell_type": "code",
   "execution_count": 13,
   "id": "30ab845a",
   "metadata": {},
   "outputs": [],
   "source": [
    "def f1(df, col_name):\n",
    "    \n",
    "    p = precision(df, col_name)\n",
    "    r = recall(df, col_name)\n",
    "    \n",
    "    return (2 * p * r)/(p + r)"
   ]
  },
  {
   "cell_type": "markdown",
   "id": "03954ad0",
   "metadata": {},
   "source": [
    "### Manhattan Distance"
   ]
  },
  {
   "cell_type": "markdown",
   "id": "87077bc9",
   "metadata": {},
   "source": [
    "Using functions from Scikit Learn"
   ]
  },
  {
   "cell_type": "code",
   "execution_count": 14,
   "id": "f59012ea",
   "metadata": {},
   "outputs": [
    {
     "name": "stdout",
     "output_type": "stream",
     "text": [
      "accuracy: 0.8840579710144928\n",
      "precision: 0.8536585365853658\n",
      "recall: 0.9459459459459459\n",
      "F1 measure: 0.8974358974358975\n"
     ]
    }
   ],
   "source": [
    "a = accuracy_score(results_df['Class'], results_df['Manhattan Distance'])\n",
    "p,r,f,s = precision_recall_fscore_support(results_df['Class'], results_df['Manhattan Distance'], labels=['M'])\n",
    "\n",
    "print('accuracy:', a)\n",
    "print('precision:', p[0])\n",
    "print('recall:', r[0])\n",
    "print('F1 measure:', f[0])"
   ]
  },
  {
   "cell_type": "markdown",
   "id": "6958e434",
   "metadata": {},
   "source": [
    "Using my custom functions"
   ]
  },
  {
   "cell_type": "code",
   "execution_count": 15,
   "id": "500bee9a",
   "metadata": {},
   "outputs": [
    {
     "name": "stdout",
     "output_type": "stream",
     "text": [
      "accuracy: 0.8840579710144928\n",
      "precision: 0.8536585365853658\n",
      "recall: 0.9459459459459459\n",
      "f1 measure: 0.8974358974358975\n"
     ]
    }
   ],
   "source": [
    "m_acc = accuracy(results_df['Class'], results_df['Manhattan Distance'])\n",
    "m_prec = precision(results_df, 'Manhattan Distance')\n",
    "m_rec = recall(results_df, 'Manhattan Distance')\n",
    "m_f1 = f1(results_df, 'Manhattan Distance')\n",
    "\n",
    "print('accuracy:', m_acc)\n",
    "print('precision:', m_prec)\n",
    "print('recall:', m_rec)\n",
    "print('f1 measure:', m_f1)"
   ]
  },
  {
   "cell_type": "markdown",
   "id": "5e9f5c22",
   "metadata": {},
   "source": [
    "### Euclidean Distance"
   ]
  },
  {
   "cell_type": "markdown",
   "id": "a1e521b8",
   "metadata": {},
   "source": [
    "Using functions from Scikit Learn"
   ]
  },
  {
   "cell_type": "code",
   "execution_count": 16,
   "id": "ad6733ea",
   "metadata": {},
   "outputs": [
    {
     "name": "stdout",
     "output_type": "stream",
     "text": [
      "accuracy: 0.8985507246376812\n",
      "precision: 0.8571428571428571\n",
      "recall: 0.972972972972973\n",
      "F1 measure: 0.9113924050632912\n"
     ]
    }
   ],
   "source": [
    "a = accuracy_score(results_df['Class'], results_df['Euclidean Distance'])\n",
    "p,r,f,s = precision_recall_fscore_support(results_df['Class'], results_df['Euclidean Distance'], labels=['M'])\n",
    "\n",
    "print('accuracy:', a)\n",
    "print('precision:', p[0])\n",
    "print('recall:', r[0])\n",
    "print('F1 measure:', f[0])"
   ]
  },
  {
   "cell_type": "markdown",
   "id": "8e9dc94c",
   "metadata": {},
   "source": [
    "Using my custom functions"
   ]
  },
  {
   "cell_type": "code",
   "execution_count": 17,
   "id": "eefd6a80",
   "metadata": {},
   "outputs": [
    {
     "name": "stdout",
     "output_type": "stream",
     "text": [
      "accuracy: 0.8985507246376812\n",
      "precision: 0.8571428571428571\n",
      "recall: 0.972972972972973\n",
      "f1 measure: 0.9113924050632912\n"
     ]
    }
   ],
   "source": [
    "e_acc = accuracy(results_df['Class'], results_df['Euclidean Distance'])\n",
    "e_prec = precision(results_df, 'Euclidean Distance')\n",
    "e_rec = recall(results_df, 'Euclidean Distance')\n",
    "e_f1 = f1(results_df, 'Euclidean Distance')\n",
    "\n",
    "print('accuracy:', e_acc)\n",
    "print('precision:', e_prec)\n",
    "print('recall:', e_rec)\n",
    "print('f1 measure:', e_f1)"
   ]
  },
  {
   "cell_type": "markdown",
   "id": "9079f86d",
   "metadata": {},
   "source": [
    "## Results Summary"
   ]
  },
  {
   "cell_type": "code",
   "execution_count": 18,
   "id": "305193d7",
   "metadata": {},
   "outputs": [
    {
     "data": {
      "text/html": [
       "<div>\n",
       "<style scoped>\n",
       "    .dataframe tbody tr th:only-of-type {\n",
       "        vertical-align: middle;\n",
       "    }\n",
       "\n",
       "    .dataframe tbody tr th {\n",
       "        vertical-align: top;\n",
       "    }\n",
       "\n",
       "    .dataframe thead th {\n",
       "        text-align: right;\n",
       "    }\n",
       "</style>\n",
       "<table border=\"1\" class=\"dataframe\">\n",
       "  <thead>\n",
       "    <tr style=\"text-align: right;\">\n",
       "      <th></th>\n",
       "      <th>Manhattan Distance</th>\n",
       "      <th>Euclidean Distance</th>\n",
       "    </tr>\n",
       "  </thead>\n",
       "  <tbody>\n",
       "    <tr>\n",
       "      <th>Accuracy</th>\n",
       "      <td>0.884</td>\n",
       "      <td>0.899</td>\n",
       "    </tr>\n",
       "    <tr>\n",
       "      <th>Precision</th>\n",
       "      <td>0.854</td>\n",
       "      <td>0.857</td>\n",
       "    </tr>\n",
       "    <tr>\n",
       "      <th>Recall</th>\n",
       "      <td>0.946</td>\n",
       "      <td>0.973</td>\n",
       "    </tr>\n",
       "    <tr>\n",
       "      <th>F1 Measure</th>\n",
       "      <td>0.897</td>\n",
       "      <td>0.911</td>\n",
       "    </tr>\n",
       "  </tbody>\n",
       "</table>\n",
       "</div>"
      ],
      "text/plain": [
       "            Manhattan Distance  Euclidean Distance\n",
       "Accuracy                 0.884               0.899\n",
       "Precision                0.854               0.857\n",
       "Recall                   0.946               0.973\n",
       "F1 Measure               0.897               0.911"
      ]
     },
     "execution_count": 18,
     "metadata": {},
     "output_type": "execute_result"
    }
   ],
   "source": [
    "d = {'Manhattan Distance': np.around([m_acc, m_prec, m_rec, m_f1], decimals=3), \n",
    "     'Euclidean Distance': np.around([e_acc, e_prec, e_rec, e_f1], decimals=3)}\n",
    "\n",
    "pd.DataFrame(data=d, index=['Accuracy', 'Precision', 'Recall', 'F1 Measure'])"
   ]
  },
  {
   "cell_type": "markdown",
   "id": "ec5db3e3",
   "metadata": {},
   "source": [
    "In all measures, Euclidean distance out performs Manhattan Distance. "
   ]
  },
  {
   "cell_type": "markdown",
   "id": "1c43a840",
   "metadata": {},
   "source": [
    "# Section B\n",
    "\n",
    "Run your code for the power q as a positive integer number from **1 to 20** and **display the accuracy, recall, precision, and F1 measure** on the test set in a chart. Which value of q leads to the best accuracy on the test set?"
   ]
  },
  {
   "cell_type": "code",
   "execution_count": 19,
   "id": "2853c8b5",
   "metadata": {},
   "outputs": [],
   "source": [
    "sectionb = results_df.drop(columns = ['Manhattan Distance', 'Euclidean Distance'])"
   ]
  },
  {
   "cell_type": "markdown",
   "id": "647d02fe",
   "metadata": {},
   "source": [
    "Get predictions and run analysis for all measures of q"
   ]
  },
  {
   "cell_type": "code",
   "execution_count": 20,
   "id": "06a7e4a4",
   "metadata": {},
   "outputs": [],
   "source": [
    "d = {}\n",
    "\n",
    "for i in range(1, 21):\n",
    "    \n",
    "    sectionb[i] = predict_class(test_df.drop(columns='Class'), q=i)\n",
    "    \n",
    "    acc = accuracy(sectionb['Class'], sectionb[i])\n",
    "    prec = precision(sectionb, i)\n",
    "    rec = recall(sectionb, i)\n",
    "    f1m = f1(sectionb, i)\n",
    "    \n",
    "    d[i] = [acc, prec, rec, f1m]"
   ]
  },
  {
   "cell_type": "markdown",
   "id": "3efd4ec7",
   "metadata": {},
   "source": [
    "Print dataframe summary"
   ]
  },
  {
   "cell_type": "code",
   "execution_count": 24,
   "id": "b7a63819",
   "metadata": {},
   "outputs": [
    {
     "data": {
      "text/html": [
       "<div>\n",
       "<style scoped>\n",
       "    .dataframe tbody tr th:only-of-type {\n",
       "        vertical-align: middle;\n",
       "    }\n",
       "\n",
       "    .dataframe tbody tr th {\n",
       "        vertical-align: top;\n",
       "    }\n",
       "\n",
       "    .dataframe thead th {\n",
       "        text-align: right;\n",
       "    }\n",
       "</style>\n",
       "<table border=\"1\" class=\"dataframe\">\n",
       "  <thead>\n",
       "    <tr style=\"text-align: right;\">\n",
       "      <th></th>\n",
       "      <th>Accuracy</th>\n",
       "      <th>Precision</th>\n",
       "      <th>Recall</th>\n",
       "      <th>F1 Measure</th>\n",
       "    </tr>\n",
       "  </thead>\n",
       "  <tbody>\n",
       "    <tr>\n",
       "      <th>1</th>\n",
       "      <td>0.884058</td>\n",
       "      <td>0.853659</td>\n",
       "      <td>0.945946</td>\n",
       "      <td>0.897436</td>\n",
       "    </tr>\n",
       "    <tr>\n",
       "      <th>2</th>\n",
       "      <td>0.898551</td>\n",
       "      <td>0.857143</td>\n",
       "      <td>0.972973</td>\n",
       "      <td>0.911392</td>\n",
       "    </tr>\n",
       "    <tr>\n",
       "      <th>3</th>\n",
       "      <td>0.884058</td>\n",
       "      <td>0.837209</td>\n",
       "      <td>0.972973</td>\n",
       "      <td>0.900000</td>\n",
       "    </tr>\n",
       "    <tr>\n",
       "      <th>4</th>\n",
       "      <td>0.869565</td>\n",
       "      <td>0.818182</td>\n",
       "      <td>0.972973</td>\n",
       "      <td>0.888889</td>\n",
       "    </tr>\n",
       "    <tr>\n",
       "      <th>5</th>\n",
       "      <td>0.855072</td>\n",
       "      <td>0.813953</td>\n",
       "      <td>0.945946</td>\n",
       "      <td>0.875000</td>\n",
       "    </tr>\n",
       "    <tr>\n",
       "      <th>6</th>\n",
       "      <td>0.811594</td>\n",
       "      <td>0.785714</td>\n",
       "      <td>0.891892</td>\n",
       "      <td>0.835443</td>\n",
       "    </tr>\n",
       "    <tr>\n",
       "      <th>7</th>\n",
       "      <td>0.797101</td>\n",
       "      <td>0.767442</td>\n",
       "      <td>0.891892</td>\n",
       "      <td>0.825000</td>\n",
       "    </tr>\n",
       "    <tr>\n",
       "      <th>8</th>\n",
       "      <td>0.797101</td>\n",
       "      <td>0.767442</td>\n",
       "      <td>0.891892</td>\n",
       "      <td>0.825000</td>\n",
       "    </tr>\n",
       "    <tr>\n",
       "      <th>9</th>\n",
       "      <td>0.797101</td>\n",
       "      <td>0.767442</td>\n",
       "      <td>0.891892</td>\n",
       "      <td>0.825000</td>\n",
       "    </tr>\n",
       "    <tr>\n",
       "      <th>10</th>\n",
       "      <td>0.797101</td>\n",
       "      <td>0.767442</td>\n",
       "      <td>0.891892</td>\n",
       "      <td>0.825000</td>\n",
       "    </tr>\n",
       "    <tr>\n",
       "      <th>11</th>\n",
       "      <td>0.797101</td>\n",
       "      <td>0.767442</td>\n",
       "      <td>0.891892</td>\n",
       "      <td>0.825000</td>\n",
       "    </tr>\n",
       "    <tr>\n",
       "      <th>12</th>\n",
       "      <td>0.797101</td>\n",
       "      <td>0.767442</td>\n",
       "      <td>0.891892</td>\n",
       "      <td>0.825000</td>\n",
       "    </tr>\n",
       "    <tr>\n",
       "      <th>13</th>\n",
       "      <td>0.797101</td>\n",
       "      <td>0.767442</td>\n",
       "      <td>0.891892</td>\n",
       "      <td>0.825000</td>\n",
       "    </tr>\n",
       "    <tr>\n",
       "      <th>14</th>\n",
       "      <td>0.782609</td>\n",
       "      <td>0.761905</td>\n",
       "      <td>0.864865</td>\n",
       "      <td>0.810127</td>\n",
       "    </tr>\n",
       "    <tr>\n",
       "      <th>15</th>\n",
       "      <td>0.782609</td>\n",
       "      <td>0.761905</td>\n",
       "      <td>0.864865</td>\n",
       "      <td>0.810127</td>\n",
       "    </tr>\n",
       "    <tr>\n",
       "      <th>16</th>\n",
       "      <td>0.782609</td>\n",
       "      <td>0.761905</td>\n",
       "      <td>0.864865</td>\n",
       "      <td>0.810127</td>\n",
       "    </tr>\n",
       "    <tr>\n",
       "      <th>17</th>\n",
       "      <td>0.782609</td>\n",
       "      <td>0.761905</td>\n",
       "      <td>0.864865</td>\n",
       "      <td>0.810127</td>\n",
       "    </tr>\n",
       "    <tr>\n",
       "      <th>18</th>\n",
       "      <td>0.782609</td>\n",
       "      <td>0.761905</td>\n",
       "      <td>0.864865</td>\n",
       "      <td>0.810127</td>\n",
       "    </tr>\n",
       "    <tr>\n",
       "      <th>19</th>\n",
       "      <td>0.782609</td>\n",
       "      <td>0.761905</td>\n",
       "      <td>0.864865</td>\n",
       "      <td>0.810127</td>\n",
       "    </tr>\n",
       "    <tr>\n",
       "      <th>20</th>\n",
       "      <td>0.782609</td>\n",
       "      <td>0.761905</td>\n",
       "      <td>0.864865</td>\n",
       "      <td>0.810127</td>\n",
       "    </tr>\n",
       "  </tbody>\n",
       "</table>\n",
       "</div>"
      ],
      "text/plain": [
       "    Accuracy  Precision    Recall  F1 Measure\n",
       "1   0.884058   0.853659  0.945946    0.897436\n",
       "2   0.898551   0.857143  0.972973    0.911392\n",
       "3   0.884058   0.837209  0.972973    0.900000\n",
       "4   0.869565   0.818182  0.972973    0.888889\n",
       "5   0.855072   0.813953  0.945946    0.875000\n",
       "6   0.811594   0.785714  0.891892    0.835443\n",
       "7   0.797101   0.767442  0.891892    0.825000\n",
       "8   0.797101   0.767442  0.891892    0.825000\n",
       "9   0.797101   0.767442  0.891892    0.825000\n",
       "10  0.797101   0.767442  0.891892    0.825000\n",
       "11  0.797101   0.767442  0.891892    0.825000\n",
       "12  0.797101   0.767442  0.891892    0.825000\n",
       "13  0.797101   0.767442  0.891892    0.825000\n",
       "14  0.782609   0.761905  0.864865    0.810127\n",
       "15  0.782609   0.761905  0.864865    0.810127\n",
       "16  0.782609   0.761905  0.864865    0.810127\n",
       "17  0.782609   0.761905  0.864865    0.810127\n",
       "18  0.782609   0.761905  0.864865    0.810127\n",
       "19  0.782609   0.761905  0.864865    0.810127\n",
       "20  0.782609   0.761905  0.864865    0.810127"
      ]
     },
     "execution_count": 24,
     "metadata": {},
     "output_type": "execute_result"
    }
   ],
   "source": [
    "graph_df = pd.DataFrame(data=d, index=['Accuracy', 'Precision', 'Recall', 'F1 Measure']).T\n",
    "graph_df"
   ]
  },
  {
   "cell_type": "markdown",
   "id": "812b139a",
   "metadata": {},
   "source": [
    "Create graph displaying the measures"
   ]
  },
  {
   "cell_type": "code",
   "execution_count": 48,
   "id": "64ae7f29",
   "metadata": {},
   "outputs": [
    {
     "data": {
      "image/png": "[encoded data removed]",
      "text/plain": [
       "<Figure size 640x480 with 1 Axes>"
      ]
     },
     "metadata": {},
     "output_type": "display_data"
    }
   ],
   "source": [
    "fig, ax = plt.subplots()\n",
    "sns.lineplot(data=graph_df, ax=ax, dashes=False)\n",
    "plt.axvline(2, color='gray', linestyle=\"--\")\n",
    "ax.set_xlim(1,20)\n",
    "ax.set_xticks(range(1,20))\n",
    "\n",
    "plt.show()"
   ]
  },
  {
   "cell_type": "markdown",
   "id": "39ad8cd8",
   "metadata": {},
   "source": [
    "The best accuracy was with q=2 or Euclidean Distance :)"
   ]
  }
 ],
 "metadata": {
  "kernelspec": {
   "display_name": "Python 3 (ipykernel)",
   "language": "python",
   "name": "python3"
  },
  "language_info": {
   "codemirror_mode": {
    "name": "ipython",
    "version": 3
   },
   "file_extension": ".py",
   "mimetype": "text/x-python",
   "name": "python",
   "nbconvert_exporter": "python",
   "pygments_lexer": "ipython3",
   "version": "3.11.2"
  }
 },
 "nbformat": 4,
 "nbformat_minor": 5
}
