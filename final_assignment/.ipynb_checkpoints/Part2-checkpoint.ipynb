{
 "cells": [
  {
   "cell_type": "markdown",
   "id": "62e815ab",
   "metadata": {},
   "source": [
    "# Data Mining Coursework - Spring 2023\n",
    "\n",
    "Katerina Marie (Katya) Reichert - 33781583\n",
    "\n",
    "I worked and submitted alone :)"
   ]
  },
  {
   "cell_type": "markdown",
   "id": "790c392e",
   "metadata": {},
   "source": [
    "# Part 2 - Credit Risk Analysis\n",
    "\n",
    "This task is based on a real credit risk data, and is to predict a response variable Y which represents a credit card default payment (Yes = 1, No = 0), using the 23 input variables as follows:\n",
    "\n",
    "| Variable | Description |\n",
    "| :- | :- |\n",
    "| X1 | Amount of the given credit (NT dollar): it includes both the individual consumer credit and his/her family (supplementary) credit. |\n",
    "| X2 | Gender (1 = male; 2 = female). |\n",
    "| X3 | Education (1 = graduate school; 2 = university; 3 = high school; 4 = others). |\n",
    "| X4 | Marital status (1 = married; 2 = single; 3 = others). |\n",
    "| X5 | Age (year). |\n",
    "| X6 - X11 | History of past payment. One tracked the past monthly payment records (from April to September, 2005) as follows: X6 = the repayment status in September, 2005; X7 = the repayment status in August, 2005; . . .;X11 = the repayment status in April, 2005. The measurement scale for the repayment status is: -1 = pay duly; 1 = payment delay for one month; 2 = payment delay for two months; . . .; 8 = payment delay for eight months; 9 = payment delay for nine months and above. |\n",
    "| X12 - X17 | Amount of bill statement (NT dollar). X12 = amount of bill statement in September, 2005; X13 = amount of bill statement in August, 2005; . . .; X17 = amount of bill statement in April, 2005. |\n",
    "| X18 - X23 | Amount of previous payment (NT dollar). X18 = amount paid in September, 2005; X19 = amount paid in August, 2005; . . .;X23 = amount paid in April, 2005. |"
   ]
  },
  {
   "cell_type": "markdown",
   "id": "e7b3783b",
   "metadata": {},
   "source": [
    "### Main Task:\n",
    "\n",
    "Using Python and any relevant libraries, you are required to build the best predictive model by tuning models using cross validation on the training dataset with each of the following algorithms discussed in this module: \n",
    "\n",
    "- k-Nearest Neighbours\n",
    "- Decision Trees\n",
    "- Random Forest\n",
    "- Bagging\n",
    "- AdaBoost\n",
    "- SVM\n",
    "\n",
    "Out of the models tuned with the above algorithms, select the best model and clearly justify your choice, and evaluate its performances on the test set.\n",
    "\n",
    "Moreover, for each algorithm mentioned above, include 1 chart in the notebook illustrating how accuracy of the models vary when you vary the values of one numeric hyperparameter only (at your choice).\n",
    "\n",
    "When working alone, only 3 out of the 6 algorithms mentioned in Part 2."
   ]
  },
  {
   "cell_type": "code",
   "execution_count": 1,
   "id": "0c49440e",
   "metadata": {},
   "outputs": [],
   "source": [
    "import pandas as pd\n",
    "import numpy as np\n",
    "\n",
    "from sklearn import svm\n",
    "from sklearn.neighbors import KNeighborsClassifier\n",
    "from sklearn.tree import DecisionTreeClassifier\n",
    "from sklearn.model_selection import GridSearchCV\n",
    "from sklearn.ensemble import RandomForestClassifier\n",
    "\n",
    "from sklearn.metrics import confusion_matrix, accuracy_score, precision_score, recall_score, f1_score\n",
    "\n",
    "import matplotlib.pyplot as plt\n",
    "\n",
    "import sys\n",
    "import os"
   ]
  },
  {
   "cell_type": "markdown",
   "id": "c1b9545b",
   "metadata": {},
   "source": [
    "# Prepare training data set"
   ]
  },
  {
   "cell_type": "code",
   "execution_count": 2,
   "id": "014fd9a3",
   "metadata": {},
   "outputs": [
    {
     "name": "stdout",
     "output_type": "stream",
     "text": [
      "(15000, 24)\n"
     ]
    },
    {
     "data": {
      "text/html": [
       "<div>\n",
       "<style scoped>\n",
       "    .dataframe tbody tr th:only-of-type {\n",
       "        vertical-align: middle;\n",
       "    }\n",
       "\n",
       "    .dataframe tbody tr th {\n",
       "        vertical-align: top;\n",
       "    }\n",
       "\n",
       "    .dataframe thead th {\n",
       "        text-align: right;\n",
       "    }\n",
       "</style>\n",
       "<table border=\"1\" class=\"dataframe\">\n",
       "  <thead>\n",
       "    <tr style=\"text-align: right;\">\n",
       "      <th></th>\n",
       "      <th>Y</th>\n",
       "      <th>X1</th>\n",
       "      <th>X2</th>\n",
       "      <th>X3</th>\n",
       "      <th>X4</th>\n",
       "      <th>X5</th>\n",
       "      <th>X6</th>\n",
       "      <th>X7</th>\n",
       "      <th>X8</th>\n",
       "      <th>X9</th>\n",
       "      <th>...</th>\n",
       "      <th>X14</th>\n",
       "      <th>X15</th>\n",
       "      <th>X16</th>\n",
       "      <th>X17</th>\n",
       "      <th>X18</th>\n",
       "      <th>X19</th>\n",
       "      <th>X20</th>\n",
       "      <th>X21</th>\n",
       "      <th>X22</th>\n",
       "      <th>X23</th>\n",
       "    </tr>\n",
       "  </thead>\n",
       "  <tbody>\n",
       "    <tr>\n",
       "      <th>0</th>\n",
       "      <td>1</td>\n",
       "      <td>20000</td>\n",
       "      <td>2</td>\n",
       "      <td>2</td>\n",
       "      <td>1</td>\n",
       "      <td>24</td>\n",
       "      <td>2</td>\n",
       "      <td>2</td>\n",
       "      <td>-1</td>\n",
       "      <td>-1</td>\n",
       "      <td>...</td>\n",
       "      <td>689</td>\n",
       "      <td>0</td>\n",
       "      <td>0</td>\n",
       "      <td>0</td>\n",
       "      <td>0</td>\n",
       "      <td>689</td>\n",
       "      <td>0</td>\n",
       "      <td>0</td>\n",
       "      <td>0</td>\n",
       "      <td>0</td>\n",
       "    </tr>\n",
       "    <tr>\n",
       "      <th>1</th>\n",
       "      <td>0</td>\n",
       "      <td>50000</td>\n",
       "      <td>2</td>\n",
       "      <td>2</td>\n",
       "      <td>1</td>\n",
       "      <td>37</td>\n",
       "      <td>0</td>\n",
       "      <td>0</td>\n",
       "      <td>0</td>\n",
       "      <td>0</td>\n",
       "      <td>...</td>\n",
       "      <td>49291</td>\n",
       "      <td>28314</td>\n",
       "      <td>28959</td>\n",
       "      <td>29547</td>\n",
       "      <td>2000</td>\n",
       "      <td>2019</td>\n",
       "      <td>1200</td>\n",
       "      <td>1100</td>\n",
       "      <td>1069</td>\n",
       "      <td>1000</td>\n",
       "    </tr>\n",
       "    <tr>\n",
       "      <th>2</th>\n",
       "      <td>0</td>\n",
       "      <td>50000</td>\n",
       "      <td>1</td>\n",
       "      <td>2</td>\n",
       "      <td>1</td>\n",
       "      <td>57</td>\n",
       "      <td>-1</td>\n",
       "      <td>0</td>\n",
       "      <td>-1</td>\n",
       "      <td>0</td>\n",
       "      <td>...</td>\n",
       "      <td>35835</td>\n",
       "      <td>20940</td>\n",
       "      <td>19146</td>\n",
       "      <td>19131</td>\n",
       "      <td>2000</td>\n",
       "      <td>36681</td>\n",
       "      <td>10000</td>\n",
       "      <td>9000</td>\n",
       "      <td>689</td>\n",
       "      <td>679</td>\n",
       "    </tr>\n",
       "    <tr>\n",
       "      <th>3</th>\n",
       "      <td>0</td>\n",
       "      <td>50000</td>\n",
       "      <td>1</td>\n",
       "      <td>1</td>\n",
       "      <td>2</td>\n",
       "      <td>37</td>\n",
       "      <td>0</td>\n",
       "      <td>0</td>\n",
       "      <td>0</td>\n",
       "      <td>0</td>\n",
       "      <td>...</td>\n",
       "      <td>57608</td>\n",
       "      <td>19394</td>\n",
       "      <td>19619</td>\n",
       "      <td>20024</td>\n",
       "      <td>2500</td>\n",
       "      <td>1815</td>\n",
       "      <td>657</td>\n",
       "      <td>1000</td>\n",
       "      <td>1000</td>\n",
       "      <td>800</td>\n",
       "    </tr>\n",
       "    <tr>\n",
       "      <th>4</th>\n",
       "      <td>0</td>\n",
       "      <td>500000</td>\n",
       "      <td>1</td>\n",
       "      <td>1</td>\n",
       "      <td>2</td>\n",
       "      <td>29</td>\n",
       "      <td>0</td>\n",
       "      <td>0</td>\n",
       "      <td>0</td>\n",
       "      <td>0</td>\n",
       "      <td>...</td>\n",
       "      <td>445007</td>\n",
       "      <td>542653</td>\n",
       "      <td>483003</td>\n",
       "      <td>473944</td>\n",
       "      <td>55000</td>\n",
       "      <td>40000</td>\n",
       "      <td>38000</td>\n",
       "      <td>20239</td>\n",
       "      <td>13750</td>\n",
       "      <td>13770</td>\n",
       "    </tr>\n",
       "  </tbody>\n",
       "</table>\n",
       "<p>5 rows × 24 columns</p>\n",
       "</div>"
      ],
      "text/plain": [
       "   Y      X1  X2  X3  X4  X5  X6  X7  X8  X9  ...     X14     X15     X16  \\\n",
       "0  1   20000   2   2   1  24   2   2  -1  -1  ...     689       0       0   \n",
       "1  0   50000   2   2   1  37   0   0   0   0  ...   49291   28314   28959   \n",
       "2  0   50000   1   2   1  57  -1   0  -1   0  ...   35835   20940   19146   \n",
       "3  0   50000   1   1   2  37   0   0   0   0  ...   57608   19394   19619   \n",
       "4  0  500000   1   1   2  29   0   0   0   0  ...  445007  542653  483003   \n",
       "\n",
       "      X17    X18    X19    X20    X21    X22    X23  \n",
       "0       0      0    689      0      0      0      0  \n",
       "1   29547   2000   2019   1200   1100   1069   1000  \n",
       "2   19131   2000  36681  10000   9000    689    679  \n",
       "3   20024   2500   1815    657   1000   1000    800  \n",
       "4  473944  55000  40000  38000  20239  13750  13770  \n",
       "\n",
       "[5 rows x 24 columns]"
      ]
     },
     "execution_count": 2,
     "metadata": {},
     "output_type": "execute_result"
    }
   ],
   "source": [
    "train_df = pd.read_csv(os.path.join('csv', 'creditdefault_train.csv'), header=0)\n",
    "print(train_df.shape)\n",
    "train_df.head()"
   ]
  },
  {
   "cell_type": "markdown",
   "id": "c88a0fa3",
   "metadata": {},
   "source": [
    "### Preprocess data"
   ]
  },
  {
   "cell_type": "code",
   "execution_count": 3,
   "id": "b3112bf6",
   "metadata": {},
   "outputs": [],
   "source": [
    "x, y = train_df.drop(columns='Y'), train_df['Y']"
   ]
  },
  {
   "cell_type": "markdown",
   "id": "999ced35",
   "metadata": {},
   "source": [
    "Normalize X-column values"
   ]
  },
  {
   "cell_type": "code",
   "execution_count": 4,
   "id": "bb492199",
   "metadata": {},
   "outputs": [
    {
     "data": {
      "text/html": [
       "<div>\n",
       "<style scoped>\n",
       "    .dataframe tbody tr th:only-of-type {\n",
       "        vertical-align: middle;\n",
       "    }\n",
       "\n",
       "    .dataframe tbody tr th {\n",
       "        vertical-align: top;\n",
       "    }\n",
       "\n",
       "    .dataframe thead th {\n",
       "        text-align: right;\n",
       "    }\n",
       "</style>\n",
       "<table border=\"1\" class=\"dataframe\">\n",
       "  <thead>\n",
       "    <tr style=\"text-align: right;\">\n",
       "      <th></th>\n",
       "      <th>X1</th>\n",
       "      <th>X2</th>\n",
       "      <th>X3</th>\n",
       "      <th>X4</th>\n",
       "      <th>X5</th>\n",
       "      <th>X6</th>\n",
       "      <th>X7</th>\n",
       "      <th>X8</th>\n",
       "      <th>X9</th>\n",
       "      <th>X10</th>\n",
       "      <th>...</th>\n",
       "      <th>X14</th>\n",
       "      <th>X15</th>\n",
       "      <th>X16</th>\n",
       "      <th>X17</th>\n",
       "      <th>X18</th>\n",
       "      <th>X19</th>\n",
       "      <th>X20</th>\n",
       "      <th>X21</th>\n",
       "      <th>X22</th>\n",
       "      <th>X23</th>\n",
       "    </tr>\n",
       "  </thead>\n",
       "  <tbody>\n",
       "    <tr>\n",
       "      <th>0</th>\n",
       "      <td>-1.133274</td>\n",
       "      <td>0.808216</td>\n",
       "      <td>0.190673</td>\n",
       "      <td>-1.064004</td>\n",
       "      <td>-1.241838</td>\n",
       "      <td>1.795894</td>\n",
       "      <td>1.778073</td>\n",
       "      <td>-0.695989</td>\n",
       "      <td>-0.665380</td>\n",
       "      <td>-1.517486</td>\n",
       "      <td>...</td>\n",
       "      <td>-0.671103</td>\n",
       "      <td>-0.672907</td>\n",
       "      <td>-0.665631</td>\n",
       "      <td>-0.653726</td>\n",
       "      <td>-0.361115</td>\n",
       "      <td>-0.238118</td>\n",
       "      <td>-0.362679</td>\n",
       "      <td>-0.302880</td>\n",
       "      <td>-0.310301</td>\n",
       "      <td>-0.288755</td>\n",
       "    </tr>\n",
       "    <tr>\n",
       "      <th>1</th>\n",
       "      <td>-0.902700</td>\n",
       "      <td>0.808216</td>\n",
       "      <td>0.190673</td>\n",
       "      <td>-1.064004</td>\n",
       "      <td>0.178288</td>\n",
       "      <td>0.018192</td>\n",
       "      <td>0.109252</td>\n",
       "      <td>0.135539</td>\n",
       "      <td>0.181662</td>\n",
       "      <td>0.223682</td>\n",
       "      <td>...</td>\n",
       "      <td>0.031416</td>\n",
       "      <td>-0.230618</td>\n",
       "      <td>-0.186997</td>\n",
       "      <td>-0.154726</td>\n",
       "      <td>-0.232512</td>\n",
       "      <td>-0.176421</td>\n",
       "      <td>-0.274631</td>\n",
       "      <td>-0.236211</td>\n",
       "      <td>-0.241172</td>\n",
       "      <td>-0.233506</td>\n",
       "    </tr>\n",
       "    <tr>\n",
       "      <th>2</th>\n",
       "      <td>-0.902700</td>\n",
       "      <td>-1.237210</td>\n",
       "      <td>0.190673</td>\n",
       "      <td>-1.064004</td>\n",
       "      <td>2.363097</td>\n",
       "      <td>-0.870659</td>\n",
       "      <td>0.109252</td>\n",
       "      <td>-0.695989</td>\n",
       "      <td>0.181662</td>\n",
       "      <td>0.223682</td>\n",
       "      <td>...</td>\n",
       "      <td>-0.163084</td>\n",
       "      <td>-0.345806</td>\n",
       "      <td>-0.349186</td>\n",
       "      <td>-0.330635</td>\n",
       "      <td>-0.232512</td>\n",
       "      <td>1.431521</td>\n",
       "      <td>0.371049</td>\n",
       "      <td>0.242596</td>\n",
       "      <td>-0.265746</td>\n",
       "      <td>-0.251241</td>\n",
       "    </tr>\n",
       "    <tr>\n",
       "      <th>3</th>\n",
       "      <td>-0.902700</td>\n",
       "      <td>-1.237210</td>\n",
       "      <td>-1.080482</td>\n",
       "      <td>0.848984</td>\n",
       "      <td>0.178288</td>\n",
       "      <td>0.018192</td>\n",
       "      <td>0.109252</td>\n",
       "      <td>0.135539</td>\n",
       "      <td>0.181662</td>\n",
       "      <td>0.223682</td>\n",
       "      <td>...</td>\n",
       "      <td>0.151634</td>\n",
       "      <td>-0.369956</td>\n",
       "      <td>-0.341368</td>\n",
       "      <td>-0.315553</td>\n",
       "      <td>-0.200361</td>\n",
       "      <td>-0.185884</td>\n",
       "      <td>-0.314473</td>\n",
       "      <td>-0.242272</td>\n",
       "      <td>-0.245634</td>\n",
       "      <td>-0.244556</td>\n",
       "    </tr>\n",
       "    <tr>\n",
       "      <th>4</th>\n",
       "      <td>2.555914</td>\n",
       "      <td>-1.237210</td>\n",
       "      <td>-1.080482</td>\n",
       "      <td>0.848984</td>\n",
       "      <td>-0.695636</td>\n",
       "      <td>0.018192</td>\n",
       "      <td>0.109252</td>\n",
       "      <td>0.135539</td>\n",
       "      <td>0.181662</td>\n",
       "      <td>0.223682</td>\n",
       "      <td>...</td>\n",
       "      <td>5.751307</td>\n",
       "      <td>7.803806</td>\n",
       "      <td>7.317449</td>\n",
       "      <td>7.350405</td>\n",
       "      <td>3.175474</td>\n",
       "      <td>1.585487</td>\n",
       "      <td>2.425487</td>\n",
       "      <td>0.923774</td>\n",
       "      <td>0.578864</td>\n",
       "      <td>0.472025</td>\n",
       "    </tr>\n",
       "  </tbody>\n",
       "</table>\n",
       "<p>5 rows × 23 columns</p>\n",
       "</div>"
      ],
      "text/plain": [
       "         X1        X2        X3        X4        X5        X6        X7  \\\n",
       "0 -1.133274  0.808216  0.190673 -1.064004 -1.241838  1.795894  1.778073   \n",
       "1 -0.902700  0.808216  0.190673 -1.064004  0.178288  0.018192  0.109252   \n",
       "2 -0.902700 -1.237210  0.190673 -1.064004  2.363097 -0.870659  0.109252   \n",
       "3 -0.902700 -1.237210 -1.080482  0.848984  0.178288  0.018192  0.109252   \n",
       "4  2.555914 -1.237210 -1.080482  0.848984 -0.695636  0.018192  0.109252   \n",
       "\n",
       "         X8        X9       X10  ...       X14       X15       X16       X17  \\\n",
       "0 -0.695989 -0.665380 -1.517486  ... -0.671103 -0.672907 -0.665631 -0.653726   \n",
       "1  0.135539  0.181662  0.223682  ...  0.031416 -0.230618 -0.186997 -0.154726   \n",
       "2 -0.695989  0.181662  0.223682  ... -0.163084 -0.345806 -0.349186 -0.330635   \n",
       "3  0.135539  0.181662  0.223682  ...  0.151634 -0.369956 -0.341368 -0.315553   \n",
       "4  0.135539  0.181662  0.223682  ...  5.751307  7.803806  7.317449  7.350405   \n",
       "\n",
       "        X18       X19       X20       X21       X22       X23  \n",
       "0 -0.361115 -0.238118 -0.362679 -0.302880 -0.310301 -0.288755  \n",
       "1 -0.232512 -0.176421 -0.274631 -0.236211 -0.241172 -0.233506  \n",
       "2 -0.232512  1.431521  0.371049  0.242596 -0.265746 -0.251241  \n",
       "3 -0.200361 -0.185884 -0.314473 -0.242272 -0.245634 -0.244556  \n",
       "4  3.175474  1.585487  2.425487  0.923774  0.578864  0.472025  \n",
       "\n",
       "[5 rows x 23 columns]"
      ]
     },
     "execution_count": 4,
     "metadata": {},
     "output_type": "execute_result"
    }
   ],
   "source": [
    "x = (x - x.mean())/x.std()\n",
    "x.head()"
   ]
  },
  {
   "cell_type": "markdown",
   "id": "4c2e1b66",
   "metadata": {},
   "source": [
    "# Prepare test data set"
   ]
  },
  {
   "cell_type": "code",
   "execution_count": 5,
   "id": "922fb702",
   "metadata": {},
   "outputs": [
    {
     "name": "stdout",
     "output_type": "stream",
     "text": [
      "(15000, 24)\n"
     ]
    },
    {
     "data": {
      "text/html": [
       "<div>\n",
       "<style scoped>\n",
       "    .dataframe tbody tr th:only-of-type {\n",
       "        vertical-align: middle;\n",
       "    }\n",
       "\n",
       "    .dataframe tbody tr th {\n",
       "        vertical-align: top;\n",
       "    }\n",
       "\n",
       "    .dataframe thead th {\n",
       "        text-align: right;\n",
       "    }\n",
       "</style>\n",
       "<table border=\"1\" class=\"dataframe\">\n",
       "  <thead>\n",
       "    <tr style=\"text-align: right;\">\n",
       "      <th></th>\n",
       "      <th>Y</th>\n",
       "      <th>X1</th>\n",
       "      <th>X2</th>\n",
       "      <th>X3</th>\n",
       "      <th>X4</th>\n",
       "      <th>X5</th>\n",
       "      <th>X6</th>\n",
       "      <th>X7</th>\n",
       "      <th>X8</th>\n",
       "      <th>X9</th>\n",
       "      <th>...</th>\n",
       "      <th>X14</th>\n",
       "      <th>X15</th>\n",
       "      <th>X16</th>\n",
       "      <th>X17</th>\n",
       "      <th>X18</th>\n",
       "      <th>X19</th>\n",
       "      <th>X20</th>\n",
       "      <th>X21</th>\n",
       "      <th>X22</th>\n",
       "      <th>X23</th>\n",
       "    </tr>\n",
       "  </thead>\n",
       "  <tbody>\n",
       "    <tr>\n",
       "      <th>0</th>\n",
       "      <td>1</td>\n",
       "      <td>120000</td>\n",
       "      <td>2</td>\n",
       "      <td>2</td>\n",
       "      <td>2</td>\n",
       "      <td>26</td>\n",
       "      <td>-1</td>\n",
       "      <td>2</td>\n",
       "      <td>0</td>\n",
       "      <td>0</td>\n",
       "      <td>...</td>\n",
       "      <td>2682</td>\n",
       "      <td>3272</td>\n",
       "      <td>3455</td>\n",
       "      <td>3261</td>\n",
       "      <td>0</td>\n",
       "      <td>1000</td>\n",
       "      <td>1000</td>\n",
       "      <td>1000</td>\n",
       "      <td>0</td>\n",
       "      <td>2000</td>\n",
       "    </tr>\n",
       "    <tr>\n",
       "      <th>1</th>\n",
       "      <td>0</td>\n",
       "      <td>90000</td>\n",
       "      <td>2</td>\n",
       "      <td>2</td>\n",
       "      <td>2</td>\n",
       "      <td>34</td>\n",
       "      <td>0</td>\n",
       "      <td>0</td>\n",
       "      <td>0</td>\n",
       "      <td>0</td>\n",
       "      <td>...</td>\n",
       "      <td>13559</td>\n",
       "      <td>14331</td>\n",
       "      <td>14948</td>\n",
       "      <td>15549</td>\n",
       "      <td>1518</td>\n",
       "      <td>1500</td>\n",
       "      <td>1000</td>\n",
       "      <td>1000</td>\n",
       "      <td>1000</td>\n",
       "      <td>5000</td>\n",
       "    </tr>\n",
       "    <tr>\n",
       "      <th>2</th>\n",
       "      <td>0</td>\n",
       "      <td>140000</td>\n",
       "      <td>2</td>\n",
       "      <td>3</td>\n",
       "      <td>1</td>\n",
       "      <td>28</td>\n",
       "      <td>0</td>\n",
       "      <td>0</td>\n",
       "      <td>2</td>\n",
       "      <td>0</td>\n",
       "      <td>...</td>\n",
       "      <td>12108</td>\n",
       "      <td>12211</td>\n",
       "      <td>11793</td>\n",
       "      <td>3719</td>\n",
       "      <td>3329</td>\n",
       "      <td>0</td>\n",
       "      <td>432</td>\n",
       "      <td>1000</td>\n",
       "      <td>1000</td>\n",
       "      <td>1000</td>\n",
       "    </tr>\n",
       "    <tr>\n",
       "      <th>3</th>\n",
       "      <td>0</td>\n",
       "      <td>20000</td>\n",
       "      <td>1</td>\n",
       "      <td>3</td>\n",
       "      <td>2</td>\n",
       "      <td>35</td>\n",
       "      <td>-2</td>\n",
       "      <td>-2</td>\n",
       "      <td>-2</td>\n",
       "      <td>-2</td>\n",
       "      <td>...</td>\n",
       "      <td>0</td>\n",
       "      <td>0</td>\n",
       "      <td>13007</td>\n",
       "      <td>13912</td>\n",
       "      <td>0</td>\n",
       "      <td>0</td>\n",
       "      <td>0</td>\n",
       "      <td>13007</td>\n",
       "      <td>1122</td>\n",
       "      <td>0</td>\n",
       "    </tr>\n",
       "    <tr>\n",
       "      <th>4</th>\n",
       "      <td>0</td>\n",
       "      <td>200000</td>\n",
       "      <td>2</td>\n",
       "      <td>3</td>\n",
       "      <td>2</td>\n",
       "      <td>34</td>\n",
       "      <td>0</td>\n",
       "      <td>0</td>\n",
       "      <td>2</td>\n",
       "      <td>0</td>\n",
       "      <td>...</td>\n",
       "      <td>5535</td>\n",
       "      <td>2513</td>\n",
       "      <td>1828</td>\n",
       "      <td>3731</td>\n",
       "      <td>2306</td>\n",
       "      <td>12</td>\n",
       "      <td>50</td>\n",
       "      <td>300</td>\n",
       "      <td>3738</td>\n",
       "      <td>66</td>\n",
       "    </tr>\n",
       "  </tbody>\n",
       "</table>\n",
       "<p>5 rows × 24 columns</p>\n",
       "</div>"
      ],
      "text/plain": [
       "   Y      X1  X2  X3  X4  X5  X6  X7  X8  X9  ...    X14    X15    X16    X17  \\\n",
       "0  1  120000   2   2   2  26  -1   2   0   0  ...   2682   3272   3455   3261   \n",
       "1  0   90000   2   2   2  34   0   0   0   0  ...  13559  14331  14948  15549   \n",
       "2  0  140000   2   3   1  28   0   0   2   0  ...  12108  12211  11793   3719   \n",
       "3  0   20000   1   3   2  35  -2  -2  -2  -2  ...      0      0  13007  13912   \n",
       "4  0  200000   2   3   2  34   0   0   2   0  ...   5535   2513   1828   3731   \n",
       "\n",
       "    X18   X19   X20    X21   X22   X23  \n",
       "0     0  1000  1000   1000     0  2000  \n",
       "1  1518  1500  1000   1000  1000  5000  \n",
       "2  3329     0   432   1000  1000  1000  \n",
       "3     0     0     0  13007  1122     0  \n",
       "4  2306    12    50    300  3738    66  \n",
       "\n",
       "[5 rows x 24 columns]"
      ]
     },
     "execution_count": 5,
     "metadata": {},
     "output_type": "execute_result"
    }
   ],
   "source": [
    "test_df = pd.read_csv(os.path.join('csv', 'creditdefault_test.csv'), header=0)\n",
    "print(test_df.shape)\n",
    "test_df.head()"
   ]
  },
  {
   "cell_type": "markdown",
   "id": "adc041a9",
   "metadata": {},
   "source": [
    "### Preprocess data"
   ]
  },
  {
   "cell_type": "code",
   "execution_count": 6,
   "id": "43076638",
   "metadata": {},
   "outputs": [],
   "source": [
    "x_test, y_test = test_df.drop(columns='Y'), test_df['Y']"
   ]
  },
  {
   "cell_type": "markdown",
   "id": "eb14d69c",
   "metadata": {},
   "source": [
    "Normalize X-column values"
   ]
  },
  {
   "cell_type": "code",
   "execution_count": 7,
   "id": "f76bd078",
   "metadata": {},
   "outputs": [
    {
     "data": {
      "text/html": [
       "<div>\n",
       "<style scoped>\n",
       "    .dataframe tbody tr th:only-of-type {\n",
       "        vertical-align: middle;\n",
       "    }\n",
       "\n",
       "    .dataframe tbody tr th {\n",
       "        vertical-align: top;\n",
       "    }\n",
       "\n",
       "    .dataframe thead th {\n",
       "        text-align: right;\n",
       "    }\n",
       "</style>\n",
       "<table border=\"1\" class=\"dataframe\">\n",
       "  <thead>\n",
       "    <tr style=\"text-align: right;\">\n",
       "      <th></th>\n",
       "      <th>X1</th>\n",
       "      <th>X2</th>\n",
       "      <th>X3</th>\n",
       "      <th>X4</th>\n",
       "      <th>X5</th>\n",
       "      <th>X6</th>\n",
       "      <th>X7</th>\n",
       "      <th>X8</th>\n",
       "      <th>X9</th>\n",
       "      <th>X10</th>\n",
       "      <th>...</th>\n",
       "      <th>X14</th>\n",
       "      <th>X15</th>\n",
       "      <th>X16</th>\n",
       "      <th>X17</th>\n",
       "      <th>X18</th>\n",
       "      <th>X19</th>\n",
       "      <th>X20</th>\n",
       "      <th>X21</th>\n",
       "      <th>X22</th>\n",
       "      <th>X23</th>\n",
       "    </tr>\n",
       "  </thead>\n",
       "  <tbody>\n",
       "    <tr>\n",
       "      <th>0</th>\n",
       "      <td>-0.367253</td>\n",
       "      <td>0.812054</td>\n",
       "      <td>0.181022</td>\n",
       "      <td>0.868163</td>\n",
       "      <td>-1.034806</td>\n",
       "      <td>-0.879285</td>\n",
       "      <td>1.786526</td>\n",
       "      <td>0.142218</td>\n",
       "      <td>0.195981</td>\n",
       "      <td>0.246510</td>\n",
       "      <td>...</td>\n",
       "      <td>-0.636191</td>\n",
       "      <td>-0.621456</td>\n",
       "      <td>-0.603928</td>\n",
       "      <td>-0.597272</td>\n",
       "      <td>-0.326039</td>\n",
       "      <td>-0.205451</td>\n",
       "      <td>-0.216380</td>\n",
       "      <td>-0.247204</td>\n",
       "      <td>-0.318092</td>\n",
       "      <td>-0.183647</td>\n",
       "    </tr>\n",
       "    <tr>\n",
       "      <th>1</th>\n",
       "      <td>-0.599113</td>\n",
       "      <td>0.812054</td>\n",
       "      <td>0.181022</td>\n",
       "      <td>0.868163</td>\n",
       "      <td>-0.172743</td>\n",
       "      <td>0.011521</td>\n",
       "      <td>0.114219</td>\n",
       "      <td>0.142218</td>\n",
       "      <td>0.195981</td>\n",
       "      <td>0.246510</td>\n",
       "      <td>...</td>\n",
       "      <td>-0.479728</td>\n",
       "      <td>-0.450394</td>\n",
       "      <td>-0.415800</td>\n",
       "      <td>-0.392114</td>\n",
       "      <td>-0.239380</td>\n",
       "      <td>-0.184989</td>\n",
       "      <td>-0.216380</td>\n",
       "      <td>-0.247204</td>\n",
       "      <td>-0.251827</td>\n",
       "      <td>-0.011724</td>\n",
       "    </tr>\n",
       "    <tr>\n",
       "      <th>2</th>\n",
       "      <td>-0.212680</td>\n",
       "      <td>0.812054</td>\n",
       "      <td>1.440455</td>\n",
       "      <td>-1.050571</td>\n",
       "      <td>-0.819290</td>\n",
       "      <td>0.011521</td>\n",
       "      <td>0.114219</td>\n",
       "      <td>1.821291</td>\n",
       "      <td>0.195981</td>\n",
       "      <td>0.246510</td>\n",
       "      <td>...</td>\n",
       "      <td>-0.500600</td>\n",
       "      <td>-0.483186</td>\n",
       "      <td>-0.467444</td>\n",
       "      <td>-0.589625</td>\n",
       "      <td>-0.135994</td>\n",
       "      <td>-0.246375</td>\n",
       "      <td>-0.243641</td>\n",
       "      <td>-0.247204</td>\n",
       "      <td>-0.251827</td>\n",
       "      <td>-0.240954</td>\n",
       "    </tr>\n",
       "    <tr>\n",
       "      <th>3</th>\n",
       "      <td>-1.140118</td>\n",
       "      <td>-1.231363</td>\n",
       "      <td>1.440455</td>\n",
       "      <td>0.868163</td>\n",
       "      <td>-0.064985</td>\n",
       "      <td>-1.770091</td>\n",
       "      <td>-1.558089</td>\n",
       "      <td>-1.536856</td>\n",
       "      <td>-1.531742</td>\n",
       "      <td>-0.648371</td>\n",
       "      <td>...</td>\n",
       "      <td>-0.674770</td>\n",
       "      <td>-0.672068</td>\n",
       "      <td>-0.447572</td>\n",
       "      <td>-0.419445</td>\n",
       "      <td>-0.326039</td>\n",
       "      <td>-0.246375</td>\n",
       "      <td>-0.264375</td>\n",
       "      <td>0.564922</td>\n",
       "      <td>-0.243743</td>\n",
       "      <td>-0.298262</td>\n",
       "    </tr>\n",
       "    <tr>\n",
       "      <th>4</th>\n",
       "      <td>0.251039</td>\n",
       "      <td>0.812054</td>\n",
       "      <td>1.440455</td>\n",
       "      <td>0.868163</td>\n",
       "      <td>-0.172743</td>\n",
       "      <td>0.011521</td>\n",
       "      <td>0.114219</td>\n",
       "      <td>1.821291</td>\n",
       "      <td>0.195981</td>\n",
       "      <td>0.246510</td>\n",
       "      <td>...</td>\n",
       "      <td>-0.595151</td>\n",
       "      <td>-0.633197</td>\n",
       "      <td>-0.630560</td>\n",
       "      <td>-0.589425</td>\n",
       "      <td>-0.194395</td>\n",
       "      <td>-0.245884</td>\n",
       "      <td>-0.261975</td>\n",
       "      <td>-0.294550</td>\n",
       "      <td>-0.070393</td>\n",
       "      <td>-0.294479</td>\n",
       "    </tr>\n",
       "  </tbody>\n",
       "</table>\n",
       "<p>5 rows × 23 columns</p>\n",
       "</div>"
      ],
      "text/plain": [
       "         X1        X2        X3        X4        X5        X6        X7  \\\n",
       "0 -0.367253  0.812054  0.181022  0.868163 -1.034806 -0.879285  1.786526   \n",
       "1 -0.599113  0.812054  0.181022  0.868163 -0.172743  0.011521  0.114219   \n",
       "2 -0.212680  0.812054  1.440455 -1.050571 -0.819290  0.011521  0.114219   \n",
       "3 -1.140118 -1.231363  1.440455  0.868163 -0.064985 -1.770091 -1.558089   \n",
       "4  0.251039  0.812054  1.440455  0.868163 -0.172743  0.011521  0.114219   \n",
       "\n",
       "         X8        X9       X10  ...       X14       X15       X16       X17  \\\n",
       "0  0.142218  0.195981  0.246510  ... -0.636191 -0.621456 -0.603928 -0.597272   \n",
       "1  0.142218  0.195981  0.246510  ... -0.479728 -0.450394 -0.415800 -0.392114   \n",
       "2  1.821291  0.195981  0.246510  ... -0.500600 -0.483186 -0.467444 -0.589625   \n",
       "3 -1.536856 -1.531742 -0.648371  ... -0.674770 -0.672068 -0.447572 -0.419445   \n",
       "4  1.821291  0.195981  0.246510  ... -0.595151 -0.633197 -0.630560 -0.589425   \n",
       "\n",
       "        X18       X19       X20       X21       X22       X23  \n",
       "0 -0.326039 -0.205451 -0.216380 -0.247204 -0.318092 -0.183647  \n",
       "1 -0.239380 -0.184989 -0.216380 -0.247204 -0.251827 -0.011724  \n",
       "2 -0.135994 -0.246375 -0.243641 -0.247204 -0.251827 -0.240954  \n",
       "3 -0.326039 -0.246375 -0.264375  0.564922 -0.243743 -0.298262  \n",
       "4 -0.194395 -0.245884 -0.261975 -0.294550 -0.070393 -0.294479  \n",
       "\n",
       "[5 rows x 23 columns]"
      ]
     },
     "execution_count": 7,
     "metadata": {},
     "output_type": "execute_result"
    }
   ],
   "source": [
    "x_test = (x_test - x_test.mean())/x_test.std()\n",
    "x_test.head()"
   ]
  },
  {
   "cell_type": "markdown",
   "id": "c038cd30",
   "metadata": {},
   "source": [
    "# Create Predictions"
   ]
  },
  {
   "cell_type": "markdown",
   "id": "54a095ce",
   "metadata": {},
   "source": [
    "Create dataframe to record prediction results"
   ]
  },
  {
   "cell_type": "code",
   "execution_count": 8,
   "id": "9b9706cd",
   "metadata": {},
   "outputs": [
    {
     "data": {
      "text/html": [
       "<div>\n",
       "<style scoped>\n",
       "    .dataframe tbody tr th:only-of-type {\n",
       "        vertical-align: middle;\n",
       "    }\n",
       "\n",
       "    .dataframe tbody tr th {\n",
       "        vertical-align: top;\n",
       "    }\n",
       "\n",
       "    .dataframe thead th {\n",
       "        text-align: right;\n",
       "    }\n",
       "</style>\n",
       "<table border=\"1\" class=\"dataframe\">\n",
       "  <thead>\n",
       "    <tr style=\"text-align: right;\">\n",
       "      <th></th>\n",
       "      <th>Actual</th>\n",
       "    </tr>\n",
       "  </thead>\n",
       "  <tbody>\n",
       "    <tr>\n",
       "      <th>0</th>\n",
       "      <td>1</td>\n",
       "    </tr>\n",
       "    <tr>\n",
       "      <th>1</th>\n",
       "      <td>0</td>\n",
       "    </tr>\n",
       "    <tr>\n",
       "      <th>2</th>\n",
       "      <td>0</td>\n",
       "    </tr>\n",
       "    <tr>\n",
       "      <th>3</th>\n",
       "      <td>0</td>\n",
       "    </tr>\n",
       "    <tr>\n",
       "      <th>4</th>\n",
       "      <td>0</td>\n",
       "    </tr>\n",
       "  </tbody>\n",
       "</table>\n",
       "</div>"
      ],
      "text/plain": [
       "   Actual\n",
       "0       1\n",
       "1       0\n",
       "2       0\n",
       "3       0\n",
       "4       0"
      ]
     },
     "execution_count": 8,
     "metadata": {},
     "output_type": "execute_result"
    }
   ],
   "source": [
    "results_df = pd.DataFrame(test_df['Y'])\n",
    "results_df.rename(columns={'Y': 'Actual'}, inplace=True)\n",
    "\n",
    "results_df.head()"
   ]
  },
  {
   "cell_type": "markdown",
   "id": "846a53b8",
   "metadata": {},
   "source": [
    "## Model 1: K-Nearest Neighbors"
   ]
  },
  {
   "cell_type": "code",
   "execution_count": 9,
   "id": "a5f24966",
   "metadata": {},
   "outputs": [],
   "source": [
    "knn_model = KNeighborsClassifier()\n",
    "params = {'n_neighbors': [5,7,9,11], 'weights': ['uniform', 'distance'], 'p': [1,2] }"
   ]
  },
  {
   "cell_type": "code",
   "execution_count": 10,
   "id": "e2b7bb72",
   "metadata": {},
   "outputs": [
    {
     "name": "stdout",
     "output_type": "stream",
     "text": [
      "Fitting 4 folds for each of 16 candidates, totalling 64 fits\n"
     ]
    },
    {
     "data": {
      "text/html": [
       "<style>#sk-container-id-1 {color: black;background-color: white;}#sk-container-id-1 pre{padding: 0;}#sk-container-id-1 div.sk-toggleable {background-color: white;}#sk-container-id-1 label.sk-toggleable__label {cursor: pointer;display: block;width: 100%;margin-bottom: 0;padding: 0.3em;box-sizing: border-box;text-align: center;}#sk-container-id-1 label.sk-toggleable__label-arrow:before {content: \"▸\";float: left;margin-right: 0.25em;color: #696969;}#sk-container-id-1 label.sk-toggleable__label-arrow:hover:before {color: black;}#sk-container-id-1 div.sk-estimator:hover label.sk-toggleable__label-arrow:before {color: black;}#sk-container-id-1 div.sk-toggleable__content {max-height: 0;max-width: 0;overflow: hidden;text-align: left;background-color: #f0f8ff;}#sk-container-id-1 div.sk-toggleable__content pre {margin: 0.2em;color: black;border-radius: 0.25em;background-color: #f0f8ff;}#sk-container-id-1 input.sk-toggleable__control:checked~div.sk-toggleable__content {max-height: 200px;max-width: 100%;overflow: auto;}#sk-container-id-1 input.sk-toggleable__control:checked~label.sk-toggleable__label-arrow:before {content: \"▾\";}#sk-container-id-1 div.sk-estimator input.sk-toggleable__control:checked~label.sk-toggleable__label {background-color: #d4ebff;}#sk-container-id-1 div.sk-label input.sk-toggleable__control:checked~label.sk-toggleable__label {background-color: #d4ebff;}#sk-container-id-1 input.sk-hidden--visually {border: 0;clip: rect(1px 1px 1px 1px);clip: rect(1px, 1px, 1px, 1px);height: 1px;margin: -1px;overflow: hidden;padding: 0;position: absolute;width: 1px;}#sk-container-id-1 div.sk-estimator {font-family: monospace;background-color: #f0f8ff;border: 1px dotted black;border-radius: 0.25em;box-sizing: border-box;margin-bottom: 0.5em;}#sk-container-id-1 div.sk-estimator:hover {background-color: #d4ebff;}#sk-container-id-1 div.sk-parallel-item::after {content: \"\";width: 100%;border-bottom: 1px solid gray;flex-grow: 1;}#sk-container-id-1 div.sk-label:hover label.sk-toggleable__label {background-color: #d4ebff;}#sk-container-id-1 div.sk-serial::before {content: \"\";position: absolute;border-left: 1px solid gray;box-sizing: border-box;top: 0;bottom: 0;left: 50%;z-index: 0;}#sk-container-id-1 div.sk-serial {display: flex;flex-direction: column;align-items: center;background-color: white;padding-right: 0.2em;padding-left: 0.2em;position: relative;}#sk-container-id-1 div.sk-item {position: relative;z-index: 1;}#sk-container-id-1 div.sk-parallel {display: flex;align-items: stretch;justify-content: center;background-color: white;position: relative;}#sk-container-id-1 div.sk-item::before, #sk-container-id-1 div.sk-parallel-item::before {content: \"\";position: absolute;border-left: 1px solid gray;box-sizing: border-box;top: 0;bottom: 0;left: 50%;z-index: -1;}#sk-container-id-1 div.sk-parallel-item {display: flex;flex-direction: column;z-index: 1;position: relative;background-color: white;}#sk-container-id-1 div.sk-parallel-item:first-child::after {align-self: flex-end;width: 50%;}#sk-container-id-1 div.sk-parallel-item:last-child::after {align-self: flex-start;width: 50%;}#sk-container-id-1 div.sk-parallel-item:only-child::after {width: 0;}#sk-container-id-1 div.sk-dashed-wrapped {border: 1px dashed gray;margin: 0 0.4em 0.5em 0.4em;box-sizing: border-box;padding-bottom: 0.4em;background-color: white;}#sk-container-id-1 div.sk-label label {font-family: monospace;font-weight: bold;display: inline-block;line-height: 1.2em;}#sk-container-id-1 div.sk-label-container {text-align: center;}#sk-container-id-1 div.sk-container {/* jupyter's `normalize.less` sets `[hidden] { display: none; }` but bootstrap.min.css set `[hidden] { display: none !important; }` so we also need the `!important` here to be able to override the default hidden behavior on the sphinx rendered scikit-learn.org. See: https://github.com/scikit-learn/scikit-learn/issues/21755 */display: inline-block !important;position: relative;}#sk-container-id-1 div.sk-text-repr-fallback {display: none;}</style><div id=\"sk-container-id-1\" class=\"sk-top-container\"><div class=\"sk-text-repr-fallback\"><pre>GridSearchCV(cv=4, estimator=KNeighborsClassifier(),\n",
       "             param_grid={&#x27;n_neighbors&#x27;: [5, 7, 9, 11], &#x27;p&#x27;: [1, 2],\n",
       "                         &#x27;weights&#x27;: [&#x27;uniform&#x27;, &#x27;distance&#x27;]},\n",
       "             verbose=1)</pre><b>In a Jupyter environment, please rerun this cell to show the HTML representation or trust the notebook. <br />On GitHub, the HTML representation is unable to render, please try loading this page with nbviewer.org.</b></div><div class=\"sk-container\" hidden><div class=\"sk-item sk-dashed-wrapped\"><div class=\"sk-label-container\"><div class=\"sk-label sk-toggleable\"><input class=\"sk-toggleable__control sk-hidden--visually\" id=\"sk-estimator-id-1\" type=\"checkbox\" ><label for=\"sk-estimator-id-1\" class=\"sk-toggleable__label sk-toggleable__label-arrow\">GridSearchCV</label><div class=\"sk-toggleable__content\"><pre>GridSearchCV(cv=4, estimator=KNeighborsClassifier(),\n",
       "             param_grid={&#x27;n_neighbors&#x27;: [5, 7, 9, 11], &#x27;p&#x27;: [1, 2],\n",
       "                         &#x27;weights&#x27;: [&#x27;uniform&#x27;, &#x27;distance&#x27;]},\n",
       "             verbose=1)</pre></div></div></div><div class=\"sk-parallel\"><div class=\"sk-parallel-item\"><div class=\"sk-item\"><div class=\"sk-label-container\"><div class=\"sk-label sk-toggleable\"><input class=\"sk-toggleable__control sk-hidden--visually\" id=\"sk-estimator-id-2\" type=\"checkbox\" ><label for=\"sk-estimator-id-2\" class=\"sk-toggleable__label sk-toggleable__label-arrow\">estimator: KNeighborsClassifier</label><div class=\"sk-toggleable__content\"><pre>KNeighborsClassifier()</pre></div></div></div><div class=\"sk-serial\"><div class=\"sk-item\"><div class=\"sk-estimator sk-toggleable\"><input class=\"sk-toggleable__control sk-hidden--visually\" id=\"sk-estimator-id-3\" type=\"checkbox\" ><label for=\"sk-estimator-id-3\" class=\"sk-toggleable__label sk-toggleable__label-arrow\">KNeighborsClassifier</label><div class=\"sk-toggleable__content\"><pre>KNeighborsClassifier()</pre></div></div></div></div></div></div></div></div></div></div>"
      ],
      "text/plain": [
       "GridSearchCV(cv=4, estimator=KNeighborsClassifier(),\n",
       "             param_grid={'n_neighbors': [5, 7, 9, 11], 'p': [1, 2],\n",
       "                         'weights': ['uniform', 'distance']},\n",
       "             verbose=1)"
      ]
     },
     "execution_count": 10,
     "metadata": {},
     "output_type": "execute_result"
    }
   ],
   "source": [
    "knn_gs = GridSearchCV(knn_model, params, cv=4, verbose=1)\n",
    "knn_gs.fit(x, y)"
   ]
  },
  {
   "cell_type": "code",
   "execution_count": 11,
   "id": "3580325d",
   "metadata": {},
   "outputs": [
    {
     "name": "stdout",
     "output_type": "stream",
     "text": [
      "best params: {'n_neighbors': 11, 'p': 2, 'weights': 'uniform'}\n",
      "best score: 0.806\n"
     ]
    }
   ],
   "source": [
    "print('best params:', knn_gs.best_params_)\n",
    "print('best score:', knn_gs.best_score_)"
   ]
  },
  {
   "cell_type": "markdown",
   "id": "52bab541",
   "metadata": {},
   "source": [
    "### Define accuracy function"
   ]
  },
  {
   "cell_type": "code",
   "execution_count": 12,
   "id": "15e35826",
   "metadata": {},
   "outputs": [],
   "source": [
    "def accuracy(actual, pred):\n",
    "    return sum(map(lambda x, y: int(x == y), actual, pred))/len(actual)"
   ]
  },
  {
   "cell_type": "markdown",
   "id": "9ae2f5a4",
   "metadata": {},
   "source": [
    "### Create graph to show how accuracy varies"
   ]
  },
  {
   "cell_type": "code",
   "execution_count": 13,
   "id": "16b0fab7",
   "metadata": {},
   "outputs": [
    {
     "name": "stdout",
     "output_type": "stream",
     "text": [
      "Accuracy vs N_Neighbors for a KNN Model\n"
     ]
    },
    {
     "data": {
      "text/plain": [
       "[<matplotlib.lines.Line2D at 0x148b5fbd0>]"
      ]
     },
     "execution_count": 13,
     "metadata": {},
     "output_type": "execute_result"
    },
    {
     "data": {
      "image/png": "[encoded data removed]",
      "text/plain": [
       "<Figure size 640x480 with 1 Axes>"
      ]
     },
     "metadata": {},
     "output_type": "display_data"
    }
   ],
   "source": [
    "x_vals = [8,9,10,11,12]\n",
    "accuracy_vals = []\n",
    "\n",
    "for n in x_vals:\n",
    "    knn_model = KNeighborsClassifier(n_neighbors = n)\n",
    "    knn_model.fit(x,y)\n",
    "    accuracy_vals.append(accuracy(y_test, knn_model.predict(x_test)))\n",
    "    \n",
    "print(\"Accuracy vs N_Neighbors for a KNN Model\")\n",
    "plt.plot(x_vals, accuracy_vals)"
   ]
  },
  {
   "cell_type": "code",
   "execution_count": 14,
   "id": "530c5407",
   "metadata": {},
   "outputs": [
    {
     "data": {
      "text/html": [
       "<div>\n",
       "<style scoped>\n",
       "    .dataframe tbody tr th:only-of-type {\n",
       "        vertical-align: middle;\n",
       "    }\n",
       "\n",
       "    .dataframe tbody tr th {\n",
       "        vertical-align: top;\n",
       "    }\n",
       "\n",
       "    .dataframe thead th {\n",
       "        text-align: right;\n",
       "    }\n",
       "</style>\n",
       "<table border=\"1\" class=\"dataframe\">\n",
       "  <thead>\n",
       "    <tr style=\"text-align: right;\">\n",
       "      <th></th>\n",
       "      <th>Actual</th>\n",
       "      <th>KNN</th>\n",
       "    </tr>\n",
       "  </thead>\n",
       "  <tbody>\n",
       "    <tr>\n",
       "      <th>0</th>\n",
       "      <td>1</td>\n",
       "      <td>0</td>\n",
       "    </tr>\n",
       "    <tr>\n",
       "      <th>1</th>\n",
       "      <td>0</td>\n",
       "      <td>0</td>\n",
       "    </tr>\n",
       "    <tr>\n",
       "      <th>2</th>\n",
       "      <td>0</td>\n",
       "      <td>0</td>\n",
       "    </tr>\n",
       "    <tr>\n",
       "      <th>3</th>\n",
       "      <td>0</td>\n",
       "      <td>0</td>\n",
       "    </tr>\n",
       "    <tr>\n",
       "      <th>4</th>\n",
       "      <td>0</td>\n",
       "      <td>0</td>\n",
       "    </tr>\n",
       "  </tbody>\n",
       "</table>\n",
       "</div>"
      ],
      "text/plain": [
       "   Actual  KNN\n",
       "0       1    0\n",
       "1       0    0\n",
       "2       0    0\n",
       "3       0    0\n",
       "4       0    0"
      ]
     },
     "execution_count": 14,
     "metadata": {},
     "output_type": "execute_result"
    }
   ],
   "source": [
    "knn_model = KNeighborsClassifier(n_neighbors = knn_gs.best_params_['n_neighbors'], p = knn_gs.best_params_['p'],\n",
    "                                weights = knn_gs.best_params_['weights'])\n",
    "knn_model.fit(x,y)\n",
    "\n",
    "results_df['KNN'] = knn_model.predict(x_test)\n",
    "results_df.head()"
   ]
  },
  {
   "cell_type": "markdown",
   "id": "740b6707",
   "metadata": {},
   "source": [
    "## Model 2: Decision Tree "
   ]
  },
  {
   "cell_type": "code",
   "execution_count": 15,
   "id": "e5a2f31b",
   "metadata": {},
   "outputs": [],
   "source": [
    "dt_model = DecisionTreeClassifier()\n",
    "params = {'max_depth': [3, 4, 5, 6, None], 'min_samples_leaf': [1, 3, 5, 7]}"
   ]
  },
  {
   "cell_type": "code",
   "execution_count": 16,
   "id": "74f7b310",
   "metadata": {},
   "outputs": [
    {
     "name": "stdout",
     "output_type": "stream",
     "text": [
      "Fitting 4 folds for each of 20 candidates, totalling 80 fits\n"
     ]
    },
    {
     "data": {
      "text/html": [
       "<style>#sk-container-id-2 {color: black;background-color: white;}#sk-container-id-2 pre{padding: 0;}#sk-container-id-2 div.sk-toggleable {background-color: white;}#sk-container-id-2 label.sk-toggleable__label {cursor: pointer;display: block;width: 100%;margin-bottom: 0;padding: 0.3em;box-sizing: border-box;text-align: center;}#sk-container-id-2 label.sk-toggleable__label-arrow:before {content: \"▸\";float: left;margin-right: 0.25em;color: #696969;}#sk-container-id-2 label.sk-toggleable__label-arrow:hover:before {color: black;}#sk-container-id-2 div.sk-estimator:hover label.sk-toggleable__label-arrow:before {color: black;}#sk-container-id-2 div.sk-toggleable__content {max-height: 0;max-width: 0;overflow: hidden;text-align: left;background-color: #f0f8ff;}#sk-container-id-2 div.sk-toggleable__content pre {margin: 0.2em;color: black;border-radius: 0.25em;background-color: #f0f8ff;}#sk-container-id-2 input.sk-toggleable__control:checked~div.sk-toggleable__content {max-height: 200px;max-width: 100%;overflow: auto;}#sk-container-id-2 input.sk-toggleable__control:checked~label.sk-toggleable__label-arrow:before {content: \"▾\";}#sk-container-id-2 div.sk-estimator input.sk-toggleable__control:checked~label.sk-toggleable__label {background-color: #d4ebff;}#sk-container-id-2 div.sk-label input.sk-toggleable__control:checked~label.sk-toggleable__label {background-color: #d4ebff;}#sk-container-id-2 input.sk-hidden--visually {border: 0;clip: rect(1px 1px 1px 1px);clip: rect(1px, 1px, 1px, 1px);height: 1px;margin: -1px;overflow: hidden;padding: 0;position: absolute;width: 1px;}#sk-container-id-2 div.sk-estimator {font-family: monospace;background-color: #f0f8ff;border: 1px dotted black;border-radius: 0.25em;box-sizing: border-box;margin-bottom: 0.5em;}#sk-container-id-2 div.sk-estimator:hover {background-color: #d4ebff;}#sk-container-id-2 div.sk-parallel-item::after {content: \"\";width: 100%;border-bottom: 1px solid gray;flex-grow: 1;}#sk-container-id-2 div.sk-label:hover label.sk-toggleable__label {background-color: #d4ebff;}#sk-container-id-2 div.sk-serial::before {content: \"\";position: absolute;border-left: 1px solid gray;box-sizing: border-box;top: 0;bottom: 0;left: 50%;z-index: 0;}#sk-container-id-2 div.sk-serial {display: flex;flex-direction: column;align-items: center;background-color: white;padding-right: 0.2em;padding-left: 0.2em;position: relative;}#sk-container-id-2 div.sk-item {position: relative;z-index: 1;}#sk-container-id-2 div.sk-parallel {display: flex;align-items: stretch;justify-content: center;background-color: white;position: relative;}#sk-container-id-2 div.sk-item::before, #sk-container-id-2 div.sk-parallel-item::before {content: \"\";position: absolute;border-left: 1px solid gray;box-sizing: border-box;top: 0;bottom: 0;left: 50%;z-index: -1;}#sk-container-id-2 div.sk-parallel-item {display: flex;flex-direction: column;z-index: 1;position: relative;background-color: white;}#sk-container-id-2 div.sk-parallel-item:first-child::after {align-self: flex-end;width: 50%;}#sk-container-id-2 div.sk-parallel-item:last-child::after {align-self: flex-start;width: 50%;}#sk-container-id-2 div.sk-parallel-item:only-child::after {width: 0;}#sk-container-id-2 div.sk-dashed-wrapped {border: 1px dashed gray;margin: 0 0.4em 0.5em 0.4em;box-sizing: border-box;padding-bottom: 0.4em;background-color: white;}#sk-container-id-2 div.sk-label label {font-family: monospace;font-weight: bold;display: inline-block;line-height: 1.2em;}#sk-container-id-2 div.sk-label-container {text-align: center;}#sk-container-id-2 div.sk-container {/* jupyter's `normalize.less` sets `[hidden] { display: none; }` but bootstrap.min.css set `[hidden] { display: none !important; }` so we also need the `!important` here to be able to override the default hidden behavior on the sphinx rendered scikit-learn.org. See: https://github.com/scikit-learn/scikit-learn/issues/21755 */display: inline-block !important;position: relative;}#sk-container-id-2 div.sk-text-repr-fallback {display: none;}</style><div id=\"sk-container-id-2\" class=\"sk-top-container\"><div class=\"sk-text-repr-fallback\"><pre>GridSearchCV(cv=4, estimator=DecisionTreeClassifier(),\n",
       "             param_grid={&#x27;max_depth&#x27;: [3, 4, 5, 6, None],\n",
       "                         &#x27;min_samples_leaf&#x27;: [1, 3, 5, 7]},\n",
       "             verbose=1)</pre><b>In a Jupyter environment, please rerun this cell to show the HTML representation or trust the notebook. <br />On GitHub, the HTML representation is unable to render, please try loading this page with nbviewer.org.</b></div><div class=\"sk-container\" hidden><div class=\"sk-item sk-dashed-wrapped\"><div class=\"sk-label-container\"><div class=\"sk-label sk-toggleable\"><input class=\"sk-toggleable__control sk-hidden--visually\" id=\"sk-estimator-id-4\" type=\"checkbox\" ><label for=\"sk-estimator-id-4\" class=\"sk-toggleable__label sk-toggleable__label-arrow\">GridSearchCV</label><div class=\"sk-toggleable__content\"><pre>GridSearchCV(cv=4, estimator=DecisionTreeClassifier(),\n",
       "             param_grid={&#x27;max_depth&#x27;: [3, 4, 5, 6, None],\n",
       "                         &#x27;min_samples_leaf&#x27;: [1, 3, 5, 7]},\n",
       "             verbose=1)</pre></div></div></div><div class=\"sk-parallel\"><div class=\"sk-parallel-item\"><div class=\"sk-item\"><div class=\"sk-label-container\"><div class=\"sk-label sk-toggleable\"><input class=\"sk-toggleable__control sk-hidden--visually\" id=\"sk-estimator-id-5\" type=\"checkbox\" ><label for=\"sk-estimator-id-5\" class=\"sk-toggleable__label sk-toggleable__label-arrow\">estimator: DecisionTreeClassifier</label><div class=\"sk-toggleable__content\"><pre>DecisionTreeClassifier()</pre></div></div></div><div class=\"sk-serial\"><div class=\"sk-item\"><div class=\"sk-estimator sk-toggleable\"><input class=\"sk-toggleable__control sk-hidden--visually\" id=\"sk-estimator-id-6\" type=\"checkbox\" ><label for=\"sk-estimator-id-6\" class=\"sk-toggleable__label sk-toggleable__label-arrow\">DecisionTreeClassifier</label><div class=\"sk-toggleable__content\"><pre>DecisionTreeClassifier()</pre></div></div></div></div></div></div></div></div></div></div>"
      ],
      "text/plain": [
       "GridSearchCV(cv=4, estimator=DecisionTreeClassifier(),\n",
       "             param_grid={'max_depth': [3, 4, 5, 6, None],\n",
       "                         'min_samples_leaf': [1, 3, 5, 7]},\n",
       "             verbose=1)"
      ]
     },
     "execution_count": 16,
     "metadata": {},
     "output_type": "execute_result"
    }
   ],
   "source": [
    "dt_gs = GridSearchCV(dt_model, params, cv=4, verbose=1)\n",
    "dt_gs.fit(x,y)"
   ]
  },
  {
   "cell_type": "code",
   "execution_count": 17,
   "id": "ec6012fe",
   "metadata": {},
   "outputs": [
    {
     "name": "stdout",
     "output_type": "stream",
     "text": [
      "best params: {'max_depth': 3, 'min_samples_leaf': 1}\n",
      "best score: 0.8205333333333333\n"
     ]
    }
   ],
   "source": [
    "print('best params:', dt_gs.best_params_)\n",
    "print('best score:', dt_gs.best_score_)"
   ]
  },
  {
   "cell_type": "markdown",
   "id": "eb9b2d0c",
   "metadata": {},
   "source": [
    "### Create graph to show how accuracy varies"
   ]
  },
  {
   "cell_type": "code",
   "execution_count": 18,
   "id": "76a141da",
   "metadata": {},
   "outputs": [
    {
     "name": "stdout",
     "output_type": "stream",
     "text": [
      "Accuracy vs Max_Depth for a Decision Tree Model\n"
     ]
    },
    {
     "data": {
      "text/plain": [
       "[<matplotlib.lines.Line2D at 0x148ccfa10>]"
      ]
     },
     "execution_count": 18,
     "metadata": {},
     "output_type": "execute_result"
    },
    {
     "data": {
      "image/png": "[encoded data removed]",
      "text/plain": [
       "<Figure size 640x480 with 1 Axes>"
      ]
     },
     "metadata": {},
     "output_type": "display_data"
    }
   ],
   "source": [
    "x_vals = [1,2,3,4,5,6]\n",
    "accuracy_vals = []\n",
    "\n",
    "for m in x_vals:\n",
    "    dt_model = DecisionTreeClassifier(max_depth = m)\n",
    "    dt_model.fit(x,y)\n",
    "    accuracy_vals.append(accuracy(y_test, dt_model.predict(x_test)))\n",
    "    \n",
    "print(\"Accuracy vs Max_Depth for a Decision Tree Model\")\n",
    "plt.plot(x_vals, accuracy_vals)"
   ]
  },
  {
   "cell_type": "markdown",
   "id": "d55a3589",
   "metadata": {},
   "source": [
    "Fit the Decision Tree Model with the best combination of parameters from the grid search"
   ]
  },
  {
   "cell_type": "code",
   "execution_count": 19,
   "id": "0a142190",
   "metadata": {},
   "outputs": [
    {
     "data": {
      "text/html": [
       "<div>\n",
       "<style scoped>\n",
       "    .dataframe tbody tr th:only-of-type {\n",
       "        vertical-align: middle;\n",
       "    }\n",
       "\n",
       "    .dataframe tbody tr th {\n",
       "        vertical-align: top;\n",
       "    }\n",
       "\n",
       "    .dataframe thead th {\n",
       "        text-align: right;\n",
       "    }\n",
       "</style>\n",
       "<table border=\"1\" class=\"dataframe\">\n",
       "  <thead>\n",
       "    <tr style=\"text-align: right;\">\n",
       "      <th></th>\n",
       "      <th>Actual</th>\n",
       "      <th>KNN</th>\n",
       "      <th>DT</th>\n",
       "    </tr>\n",
       "  </thead>\n",
       "  <tbody>\n",
       "    <tr>\n",
       "      <th>0</th>\n",
       "      <td>1</td>\n",
       "      <td>0</td>\n",
       "      <td>0</td>\n",
       "    </tr>\n",
       "    <tr>\n",
       "      <th>1</th>\n",
       "      <td>0</td>\n",
       "      <td>0</td>\n",
       "      <td>0</td>\n",
       "    </tr>\n",
       "    <tr>\n",
       "      <th>2</th>\n",
       "      <td>0</td>\n",
       "      <td>0</td>\n",
       "      <td>0</td>\n",
       "    </tr>\n",
       "    <tr>\n",
       "      <th>3</th>\n",
       "      <td>0</td>\n",
       "      <td>0</td>\n",
       "      <td>0</td>\n",
       "    </tr>\n",
       "    <tr>\n",
       "      <th>4</th>\n",
       "      <td>0</td>\n",
       "      <td>0</td>\n",
       "      <td>0</td>\n",
       "    </tr>\n",
       "  </tbody>\n",
       "</table>\n",
       "</div>"
      ],
      "text/plain": [
       "   Actual  KNN  DT\n",
       "0       1    0   0\n",
       "1       0    0   0\n",
       "2       0    0   0\n",
       "3       0    0   0\n",
       "4       0    0   0"
      ]
     },
     "execution_count": 19,
     "metadata": {},
     "output_type": "execute_result"
    }
   ],
   "source": [
    "dt_model = DecisionTreeClassifier(max_depth = dt_gs.best_params_['max_depth'], \n",
    "                                  min_samples_leaf = dt_gs.best_params_['min_samples_leaf'])\n",
    "dt_model.fit(x,y)\n",
    "\n",
    "results_df['DT'] = dt_model.predict(x_test)\n",
    "results_df.head()"
   ]
  },
  {
   "cell_type": "markdown",
   "id": "d132926f",
   "metadata": {},
   "source": [
    "## Model 3: SVM"
   ]
  },
  {
   "cell_type": "markdown",
   "id": "74035920",
   "metadata": {},
   "source": [
    "Creating the SVM model and fixing random state parameter for repeatability"
   ]
  },
  {
   "cell_type": "code",
   "execution_count": 20,
   "id": "ab91f62d",
   "metadata": {},
   "outputs": [],
   "source": [
    "svm_model = svm.SVC(random_state = 3)\n",
    "params = {'kernel': ['linear', 'rbf', 'sigmoid'], 'C': [0.5, 1, 2]}"
   ]
  },
  {
   "cell_type": "code",
   "execution_count": 21,
   "id": "e396692d",
   "metadata": {},
   "outputs": [
    {
     "name": "stdout",
     "output_type": "stream",
     "text": [
      "Fitting 4 folds for each of 9 candidates, totalling 36 fits\n"
     ]
    },
    {
     "data": {
      "text/html": [
       "<style>#sk-container-id-3 {color: black;background-color: white;}#sk-container-id-3 pre{padding: 0;}#sk-container-id-3 div.sk-toggleable {background-color: white;}#sk-container-id-3 label.sk-toggleable__label {cursor: pointer;display: block;width: 100%;margin-bottom: 0;padding: 0.3em;box-sizing: border-box;text-align: center;}#sk-container-id-3 label.sk-toggleable__label-arrow:before {content: \"▸\";float: left;margin-right: 0.25em;color: #696969;}#sk-container-id-3 label.sk-toggleable__label-arrow:hover:before {color: black;}#sk-container-id-3 div.sk-estimator:hover label.sk-toggleable__label-arrow:before {color: black;}#sk-container-id-3 div.sk-toggleable__content {max-height: 0;max-width: 0;overflow: hidden;text-align: left;background-color: #f0f8ff;}#sk-container-id-3 div.sk-toggleable__content pre {margin: 0.2em;color: black;border-radius: 0.25em;background-color: #f0f8ff;}#sk-container-id-3 input.sk-toggleable__control:checked~div.sk-toggleable__content {max-height: 200px;max-width: 100%;overflow: auto;}#sk-container-id-3 input.sk-toggleable__control:checked~label.sk-toggleable__label-arrow:before {content: \"▾\";}#sk-container-id-3 div.sk-estimator input.sk-toggleable__control:checked~label.sk-toggleable__label {background-color: #d4ebff;}#sk-container-id-3 div.sk-label input.sk-toggleable__control:checked~label.sk-toggleable__label {background-color: #d4ebff;}#sk-container-id-3 input.sk-hidden--visually {border: 0;clip: rect(1px 1px 1px 1px);clip: rect(1px, 1px, 1px, 1px);height: 1px;margin: -1px;overflow: hidden;padding: 0;position: absolute;width: 1px;}#sk-container-id-3 div.sk-estimator {font-family: monospace;background-color: #f0f8ff;border: 1px dotted black;border-radius: 0.25em;box-sizing: border-box;margin-bottom: 0.5em;}#sk-container-id-3 div.sk-estimator:hover {background-color: #d4ebff;}#sk-container-id-3 div.sk-parallel-item::after {content: \"\";width: 100%;border-bottom: 1px solid gray;flex-grow: 1;}#sk-container-id-3 div.sk-label:hover label.sk-toggleable__label {background-color: #d4ebff;}#sk-container-id-3 div.sk-serial::before {content: \"\";position: absolute;border-left: 1px solid gray;box-sizing: border-box;top: 0;bottom: 0;left: 50%;z-index: 0;}#sk-container-id-3 div.sk-serial {display: flex;flex-direction: column;align-items: center;background-color: white;padding-right: 0.2em;padding-left: 0.2em;position: relative;}#sk-container-id-3 div.sk-item {position: relative;z-index: 1;}#sk-container-id-3 div.sk-parallel {display: flex;align-items: stretch;justify-content: center;background-color: white;position: relative;}#sk-container-id-3 div.sk-item::before, #sk-container-id-3 div.sk-parallel-item::before {content: \"\";position: absolute;border-left: 1px solid gray;box-sizing: border-box;top: 0;bottom: 0;left: 50%;z-index: -1;}#sk-container-id-3 div.sk-parallel-item {display: flex;flex-direction: column;z-index: 1;position: relative;background-color: white;}#sk-container-id-3 div.sk-parallel-item:first-child::after {align-self: flex-end;width: 50%;}#sk-container-id-3 div.sk-parallel-item:last-child::after {align-self: flex-start;width: 50%;}#sk-container-id-3 div.sk-parallel-item:only-child::after {width: 0;}#sk-container-id-3 div.sk-dashed-wrapped {border: 1px dashed gray;margin: 0 0.4em 0.5em 0.4em;box-sizing: border-box;padding-bottom: 0.4em;background-color: white;}#sk-container-id-3 div.sk-label label {font-family: monospace;font-weight: bold;display: inline-block;line-height: 1.2em;}#sk-container-id-3 div.sk-label-container {text-align: center;}#sk-container-id-3 div.sk-container {/* jupyter's `normalize.less` sets `[hidden] { display: none; }` but bootstrap.min.css set `[hidden] { display: none !important; }` so we also need the `!important` here to be able to override the default hidden behavior on the sphinx rendered scikit-learn.org. See: https://github.com/scikit-learn/scikit-learn/issues/21755 */display: inline-block !important;position: relative;}#sk-container-id-3 div.sk-text-repr-fallback {display: none;}</style><div id=\"sk-container-id-3\" class=\"sk-top-container\"><div class=\"sk-text-repr-fallback\"><pre>GridSearchCV(cv=4, estimator=SVC(random_state=3),\n",
       "             param_grid={&#x27;C&#x27;: [0.5, 1, 2],\n",
       "                         &#x27;kernel&#x27;: [&#x27;linear&#x27;, &#x27;rbf&#x27;, &#x27;sigmoid&#x27;]},\n",
       "             verbose=1)</pre><b>In a Jupyter environment, please rerun this cell to show the HTML representation or trust the notebook. <br />On GitHub, the HTML representation is unable to render, please try loading this page with nbviewer.org.</b></div><div class=\"sk-container\" hidden><div class=\"sk-item sk-dashed-wrapped\"><div class=\"sk-label-container\"><div class=\"sk-label sk-toggleable\"><input class=\"sk-toggleable__control sk-hidden--visually\" id=\"sk-estimator-id-7\" type=\"checkbox\" ><label for=\"sk-estimator-id-7\" class=\"sk-toggleable__label sk-toggleable__label-arrow\">GridSearchCV</label><div class=\"sk-toggleable__content\"><pre>GridSearchCV(cv=4, estimator=SVC(random_state=3),\n",
       "             param_grid={&#x27;C&#x27;: [0.5, 1, 2],\n",
       "                         &#x27;kernel&#x27;: [&#x27;linear&#x27;, &#x27;rbf&#x27;, &#x27;sigmoid&#x27;]},\n",
       "             verbose=1)</pre></div></div></div><div class=\"sk-parallel\"><div class=\"sk-parallel-item\"><div class=\"sk-item\"><div class=\"sk-label-container\"><div class=\"sk-label sk-toggleable\"><input class=\"sk-toggleable__control sk-hidden--visually\" id=\"sk-estimator-id-8\" type=\"checkbox\" ><label for=\"sk-estimator-id-8\" class=\"sk-toggleable__label sk-toggleable__label-arrow\">estimator: SVC</label><div class=\"sk-toggleable__content\"><pre>SVC(random_state=3)</pre></div></div></div><div class=\"sk-serial\"><div class=\"sk-item\"><div class=\"sk-estimator sk-toggleable\"><input class=\"sk-toggleable__control sk-hidden--visually\" id=\"sk-estimator-id-9\" type=\"checkbox\" ><label for=\"sk-estimator-id-9\" class=\"sk-toggleable__label sk-toggleable__label-arrow\">SVC</label><div class=\"sk-toggleable__content\"><pre>SVC(random_state=3)</pre></div></div></div></div></div></div></div></div></div></div>"
      ],
      "text/plain": [
       "GridSearchCV(cv=4, estimator=SVC(random_state=3),\n",
       "             param_grid={'C': [0.5, 1, 2],\n",
       "                         'kernel': ['linear', 'rbf', 'sigmoid']},\n",
       "             verbose=1)"
      ]
     },
     "execution_count": 21,
     "metadata": {},
     "output_type": "execute_result"
    }
   ],
   "source": [
    "svm_gs = GridSearchCV(svm_model, params, cv=4, verbose=1)\n",
    "svm_gs.fit(x, y)"
   ]
  },
  {
   "cell_type": "code",
   "execution_count": 22,
   "id": "4aaf5e09",
   "metadata": {},
   "outputs": [
    {
     "name": "stdout",
     "output_type": "stream",
     "text": [
      "best params: {'C': 1, 'kernel': 'rbf'}\n",
      "best score: 0.8184666666666667\n"
     ]
    }
   ],
   "source": [
    "print('best params:', svm_gs.best_params_)\n",
    "print('best score:', svm_gs.best_score_)"
   ]
  },
  {
   "cell_type": "markdown",
   "id": "79ea3e14",
   "metadata": {},
   "source": [
    "### Create graph to show how accuracy varies"
   ]
  },
  {
   "cell_type": "code",
   "execution_count": 23,
   "id": "c70f1122",
   "metadata": {},
   "outputs": [
    {
     "name": "stdout",
     "output_type": "stream",
     "text": [
      "Accuracy vs C for an SVM Model\n"
     ]
    },
    {
     "data": {
      "text/plain": [
       "[<matplotlib.lines.Line2D at 0x148d54690>]"
      ]
     },
     "execution_count": 23,
     "metadata": {},
     "output_type": "execute_result"
    },
    {
     "data": {
      "image/png": "[encoded data removed]",
      "text/plain": [
       "<Figure size 640x480 with 1 Axes>"
      ]
     },
     "metadata": {},
     "output_type": "display_data"
    }
   ],
   "source": [
    "x_vals = [0.8,0.9,1,1.1,1.2]\n",
    "accuracy_vals = []\n",
    "\n",
    "for m in x_vals:\n",
    "    svm_model = svm.SVC(C=m)\n",
    "    svm_model.fit(x,y)\n",
    "    accuracy_vals.append(accuracy(y_test, svm_model.predict(x_test)))\n",
    "    \n",
    "print(\"Accuracy vs C for an SVM Model\")\n",
    "plt.plot(x_vals, accuracy_vals)"
   ]
  },
  {
   "cell_type": "markdown",
   "id": "e8cc6444",
   "metadata": {},
   "source": [
    "Fit the SVM model with the best parameters from the grid search"
   ]
  },
  {
   "cell_type": "code",
   "execution_count": 24,
   "id": "32933db1",
   "metadata": {
    "scrolled": false
   },
   "outputs": [
    {
     "data": {
      "text/html": [
       "<div>\n",
       "<style scoped>\n",
       "    .dataframe tbody tr th:only-of-type {\n",
       "        vertical-align: middle;\n",
       "    }\n",
       "\n",
       "    .dataframe tbody tr th {\n",
       "        vertical-align: top;\n",
       "    }\n",
       "\n",
       "    .dataframe thead th {\n",
       "        text-align: right;\n",
       "    }\n",
       "</style>\n",
       "<table border=\"1\" class=\"dataframe\">\n",
       "  <thead>\n",
       "    <tr style=\"text-align: right;\">\n",
       "      <th></th>\n",
       "      <th>Actual</th>\n",
       "      <th>KNN</th>\n",
       "      <th>DT</th>\n",
       "      <th>SVM</th>\n",
       "    </tr>\n",
       "  </thead>\n",
       "  <tbody>\n",
       "    <tr>\n",
       "      <th>0</th>\n",
       "      <td>1</td>\n",
       "      <td>0</td>\n",
       "      <td>0</td>\n",
       "      <td>0</td>\n",
       "    </tr>\n",
       "    <tr>\n",
       "      <th>1</th>\n",
       "      <td>0</td>\n",
       "      <td>0</td>\n",
       "      <td>0</td>\n",
       "      <td>0</td>\n",
       "    </tr>\n",
       "    <tr>\n",
       "      <th>2</th>\n",
       "      <td>0</td>\n",
       "      <td>0</td>\n",
       "      <td>0</td>\n",
       "      <td>0</td>\n",
       "    </tr>\n",
       "    <tr>\n",
       "      <th>3</th>\n",
       "      <td>0</td>\n",
       "      <td>0</td>\n",
       "      <td>0</td>\n",
       "      <td>0</td>\n",
       "    </tr>\n",
       "    <tr>\n",
       "      <th>4</th>\n",
       "      <td>0</td>\n",
       "      <td>0</td>\n",
       "      <td>0</td>\n",
       "      <td>0</td>\n",
       "    </tr>\n",
       "  </tbody>\n",
       "</table>\n",
       "</div>"
      ],
      "text/plain": [
       "   Actual  KNN  DT  SVM\n",
       "0       1    0   0    0\n",
       "1       0    0   0    0\n",
       "2       0    0   0    0\n",
       "3       0    0   0    0\n",
       "4       0    0   0    0"
      ]
     },
     "execution_count": 24,
     "metadata": {},
     "output_type": "execute_result"
    }
   ],
   "source": [
    "svm_model = svm.SVC(C = svm_gs.best_params_['C'], kernel = svm_gs.best_params_['kernel'], random_state = 3)\n",
    "svm_model.fit(x,y)\n",
    "\n",
    "results_df['SVM'] = svm_model.predict(x_test)\n",
    "results_df.head()"
   ]
  },
  {
   "cell_type": "markdown",
   "id": "d4cbe272",
   "metadata": {},
   "source": [
    "## Model 4: Random Forest (just for funsies)"
   ]
  },
  {
   "cell_type": "markdown",
   "id": "138af7bf",
   "metadata": {},
   "source": [
    "Creating the RF model"
   ]
  },
  {
   "cell_type": "code",
   "execution_count": 25,
   "id": "6e17b11d",
   "metadata": {},
   "outputs": [],
   "source": [
    "rf_model = RandomForestClassifier()\n",
    "params = {'n_estimators': [10,50,100,120], 'max_depth': [None, 1, 5, 10, 15]}"
   ]
  },
  {
   "cell_type": "code",
   "execution_count": 26,
   "id": "20631895",
   "metadata": {},
   "outputs": [
    {
     "name": "stdout",
     "output_type": "stream",
     "text": [
      "Fitting 4 folds for each of 20 candidates, totalling 80 fits\n"
     ]
    },
    {
     "data": {
      "text/html": [
       "<style>#sk-container-id-4 {color: black;background-color: white;}#sk-container-id-4 pre{padding: 0;}#sk-container-id-4 div.sk-toggleable {background-color: white;}#sk-container-id-4 label.sk-toggleable__label {cursor: pointer;display: block;width: 100%;margin-bottom: 0;padding: 0.3em;box-sizing: border-box;text-align: center;}#sk-container-id-4 label.sk-toggleable__label-arrow:before {content: \"▸\";float: left;margin-right: 0.25em;color: #696969;}#sk-container-id-4 label.sk-toggleable__label-arrow:hover:before {color: black;}#sk-container-id-4 div.sk-estimator:hover label.sk-toggleable__label-arrow:before {color: black;}#sk-container-id-4 div.sk-toggleable__content {max-height: 0;max-width: 0;overflow: hidden;text-align: left;background-color: #f0f8ff;}#sk-container-id-4 div.sk-toggleable__content pre {margin: 0.2em;color: black;border-radius: 0.25em;background-color: #f0f8ff;}#sk-container-id-4 input.sk-toggleable__control:checked~div.sk-toggleable__content {max-height: 200px;max-width: 100%;overflow: auto;}#sk-container-id-4 input.sk-toggleable__control:checked~label.sk-toggleable__label-arrow:before {content: \"▾\";}#sk-container-id-4 div.sk-estimator input.sk-toggleable__control:checked~label.sk-toggleable__label {background-color: #d4ebff;}#sk-container-id-4 div.sk-label input.sk-toggleable__control:checked~label.sk-toggleable__label {background-color: #d4ebff;}#sk-container-id-4 input.sk-hidden--visually {border: 0;clip: rect(1px 1px 1px 1px);clip: rect(1px, 1px, 1px, 1px);height: 1px;margin: -1px;overflow: hidden;padding: 0;position: absolute;width: 1px;}#sk-container-id-4 div.sk-estimator {font-family: monospace;background-color: #f0f8ff;border: 1px dotted black;border-radius: 0.25em;box-sizing: border-box;margin-bottom: 0.5em;}#sk-container-id-4 div.sk-estimator:hover {background-color: #d4ebff;}#sk-container-id-4 div.sk-parallel-item::after {content: \"\";width: 100%;border-bottom: 1px solid gray;flex-grow: 1;}#sk-container-id-4 div.sk-label:hover label.sk-toggleable__label {background-color: #d4ebff;}#sk-container-id-4 div.sk-serial::before {content: \"\";position: absolute;border-left: 1px solid gray;box-sizing: border-box;top: 0;bottom: 0;left: 50%;z-index: 0;}#sk-container-id-4 div.sk-serial {display: flex;flex-direction: column;align-items: center;background-color: white;padding-right: 0.2em;padding-left: 0.2em;position: relative;}#sk-container-id-4 div.sk-item {position: relative;z-index: 1;}#sk-container-id-4 div.sk-parallel {display: flex;align-items: stretch;justify-content: center;background-color: white;position: relative;}#sk-container-id-4 div.sk-item::before, #sk-container-id-4 div.sk-parallel-item::before {content: \"\";position: absolute;border-left: 1px solid gray;box-sizing: border-box;top: 0;bottom: 0;left: 50%;z-index: -1;}#sk-container-id-4 div.sk-parallel-item {display: flex;flex-direction: column;z-index: 1;position: relative;background-color: white;}#sk-container-id-4 div.sk-parallel-item:first-child::after {align-self: flex-end;width: 50%;}#sk-container-id-4 div.sk-parallel-item:last-child::after {align-self: flex-start;width: 50%;}#sk-container-id-4 div.sk-parallel-item:only-child::after {width: 0;}#sk-container-id-4 div.sk-dashed-wrapped {border: 1px dashed gray;margin: 0 0.4em 0.5em 0.4em;box-sizing: border-box;padding-bottom: 0.4em;background-color: white;}#sk-container-id-4 div.sk-label label {font-family: monospace;font-weight: bold;display: inline-block;line-height: 1.2em;}#sk-container-id-4 div.sk-label-container {text-align: center;}#sk-container-id-4 div.sk-container {/* jupyter's `normalize.less` sets `[hidden] { display: none; }` but bootstrap.min.css set `[hidden] { display: none !important; }` so we also need the `!important` here to be able to override the default hidden behavior on the sphinx rendered scikit-learn.org. See: https://github.com/scikit-learn/scikit-learn/issues/21755 */display: inline-block !important;position: relative;}#sk-container-id-4 div.sk-text-repr-fallback {display: none;}</style><div id=\"sk-container-id-4\" class=\"sk-top-container\"><div class=\"sk-text-repr-fallback\"><pre>GridSearchCV(cv=4, estimator=RandomForestClassifier(),\n",
       "             param_grid={&#x27;max_depth&#x27;: [None, 1, 5, 10, 15],\n",
       "                         &#x27;n_estimators&#x27;: [10, 50, 100, 120]},\n",
       "             verbose=1)</pre><b>In a Jupyter environment, please rerun this cell to show the HTML representation or trust the notebook. <br />On GitHub, the HTML representation is unable to render, please try loading this page with nbviewer.org.</b></div><div class=\"sk-container\" hidden><div class=\"sk-item sk-dashed-wrapped\"><div class=\"sk-label-container\"><div class=\"sk-label sk-toggleable\"><input class=\"sk-toggleable__control sk-hidden--visually\" id=\"sk-estimator-id-10\" type=\"checkbox\" ><label for=\"sk-estimator-id-10\" class=\"sk-toggleable__label sk-toggleable__label-arrow\">GridSearchCV</label><div class=\"sk-toggleable__content\"><pre>GridSearchCV(cv=4, estimator=RandomForestClassifier(),\n",
       "             param_grid={&#x27;max_depth&#x27;: [None, 1, 5, 10, 15],\n",
       "                         &#x27;n_estimators&#x27;: [10, 50, 100, 120]},\n",
       "             verbose=1)</pre></div></div></div><div class=\"sk-parallel\"><div class=\"sk-parallel-item\"><div class=\"sk-item\"><div class=\"sk-label-container\"><div class=\"sk-label sk-toggleable\"><input class=\"sk-toggleable__control sk-hidden--visually\" id=\"sk-estimator-id-11\" type=\"checkbox\" ><label for=\"sk-estimator-id-11\" class=\"sk-toggleable__label sk-toggleable__label-arrow\">estimator: RandomForestClassifier</label><div class=\"sk-toggleable__content\"><pre>RandomForestClassifier()</pre></div></div></div><div class=\"sk-serial\"><div class=\"sk-item\"><div class=\"sk-estimator sk-toggleable\"><input class=\"sk-toggleable__control sk-hidden--visually\" id=\"sk-estimator-id-12\" type=\"checkbox\" ><label for=\"sk-estimator-id-12\" class=\"sk-toggleable__label sk-toggleable__label-arrow\">RandomForestClassifier</label><div class=\"sk-toggleable__content\"><pre>RandomForestClassifier()</pre></div></div></div></div></div></div></div></div></div></div>"
      ],
      "text/plain": [
       "GridSearchCV(cv=4, estimator=RandomForestClassifier(),\n",
       "             param_grid={'max_depth': [None, 1, 5, 10, 15],\n",
       "                         'n_estimators': [10, 50, 100, 120]},\n",
       "             verbose=1)"
      ]
     },
     "execution_count": 26,
     "metadata": {},
     "output_type": "execute_result"
    }
   ],
   "source": [
    "rf_gs = GridSearchCV(rf_model, params, cv=4, verbose=1)\n",
    "rf_gs.fit(x, y)"
   ]
  },
  {
   "cell_type": "code",
   "execution_count": 27,
   "id": "fe091ff2",
   "metadata": {},
   "outputs": [
    {
     "name": "stdout",
     "output_type": "stream",
     "text": [
      "best params: {'max_depth': 10, 'n_estimators': 50}\n",
      "best score: 0.8206666666666667\n"
     ]
    }
   ],
   "source": [
    "print('best params:', rf_gs.best_params_)\n",
    "print('best score:', rf_gs.best_score_)"
   ]
  },
  {
   "cell_type": "markdown",
   "id": "476ba35e",
   "metadata": {},
   "source": [
    "### Create graph to show how accuracy varies"
   ]
  },
  {
   "cell_type": "code",
   "execution_count": 28,
   "id": "39800361",
   "metadata": {},
   "outputs": [
    {
     "name": "stdout",
     "output_type": "stream",
     "text": [
      "Accuracy vs N_Estimators for a RF Model\n"
     ]
    },
    {
     "data": {
      "text/plain": [
       "[<matplotlib.lines.Line2D at 0x148d77fd0>]"
      ]
     },
     "execution_count": 28,
     "metadata": {},
     "output_type": "execute_result"
    },
    {
     "data": {
      "image/png": "[encoded data removed]",
      "text/plain": [
       "<Figure size 640x480 with 1 Axes>"
      ]
     },
     "metadata": {},
     "output_type": "display_data"
    }
   ],
   "source": [
    "x_vals = [1,10,50,100,120,150]\n",
    "accuracy_vals = []\n",
    "\n",
    "for m in x_vals:\n",
    "    rf_model = RandomForestClassifier(n_estimators=m)\n",
    "    rf_model.fit(x,y)\n",
    "    accuracy_vals.append(accuracy(y_test, rf_model.predict(x_test)))\n",
    "    \n",
    "print(\"Accuracy vs N_Estimators for a RF Model\")\n",
    "plt.plot(x_vals, accuracy_vals)"
   ]
  },
  {
   "cell_type": "markdown",
   "id": "3b0d5865",
   "metadata": {},
   "source": [
    "This graph shows that there are diminishing returns in accuracy after 100 estimators, so even if the grid search said that we should use 120 estimators, it is basically the same as using 100. So, we will use n_estimators = 100 to save computational power."
   ]
  },
  {
   "cell_type": "code",
   "execution_count": 29,
   "id": "e7ca6ea7",
   "metadata": {
    "scrolled": true
   },
   "outputs": [
    {
     "data": {
      "text/html": [
       "<div>\n",
       "<style scoped>\n",
       "    .dataframe tbody tr th:only-of-type {\n",
       "        vertical-align: middle;\n",
       "    }\n",
       "\n",
       "    .dataframe tbody tr th {\n",
       "        vertical-align: top;\n",
       "    }\n",
       "\n",
       "    .dataframe thead th {\n",
       "        text-align: right;\n",
       "    }\n",
       "</style>\n",
       "<table border=\"1\" class=\"dataframe\">\n",
       "  <thead>\n",
       "    <tr style=\"text-align: right;\">\n",
       "      <th></th>\n",
       "      <th>Actual</th>\n",
       "      <th>KNN</th>\n",
       "      <th>DT</th>\n",
       "      <th>SVM</th>\n",
       "      <th>RF</th>\n",
       "    </tr>\n",
       "  </thead>\n",
       "  <tbody>\n",
       "    <tr>\n",
       "      <th>0</th>\n",
       "      <td>1</td>\n",
       "      <td>0</td>\n",
       "      <td>0</td>\n",
       "      <td>0</td>\n",
       "      <td>0</td>\n",
       "    </tr>\n",
       "    <tr>\n",
       "      <th>1</th>\n",
       "      <td>0</td>\n",
       "      <td>0</td>\n",
       "      <td>0</td>\n",
       "      <td>0</td>\n",
       "      <td>0</td>\n",
       "    </tr>\n",
       "    <tr>\n",
       "      <th>2</th>\n",
       "      <td>0</td>\n",
       "      <td>0</td>\n",
       "      <td>0</td>\n",
       "      <td>0</td>\n",
       "      <td>0</td>\n",
       "    </tr>\n",
       "    <tr>\n",
       "      <th>3</th>\n",
       "      <td>0</td>\n",
       "      <td>0</td>\n",
       "      <td>0</td>\n",
       "      <td>0</td>\n",
       "      <td>0</td>\n",
       "    </tr>\n",
       "    <tr>\n",
       "      <th>4</th>\n",
       "      <td>0</td>\n",
       "      <td>0</td>\n",
       "      <td>0</td>\n",
       "      <td>0</td>\n",
       "      <td>0</td>\n",
       "    </tr>\n",
       "  </tbody>\n",
       "</table>\n",
       "</div>"
      ],
      "text/plain": [
       "   Actual  KNN  DT  SVM  RF\n",
       "0       1    0   0    0   0\n",
       "1       0    0   0    0   0\n",
       "2       0    0   0    0   0\n",
       "3       0    0   0    0   0\n",
       "4       0    0   0    0   0"
      ]
     },
     "execution_count": 29,
     "metadata": {},
     "output_type": "execute_result"
    }
   ],
   "source": [
    "rf_model = RandomForestClassifier(n_estimators = 100, max_depth = rf_gs.best_params_['max_depth'])\n",
    "rf_model.fit(x,y)\n",
    "\n",
    "results_df['RF'] = rf_model.predict(x_test)\n",
    "results_df.head()"
   ]
  },
  {
   "cell_type": "markdown",
   "id": "894a4391",
   "metadata": {},
   "source": [
    "# Analyze Results"
   ]
  },
  {
   "cell_type": "markdown",
   "id": "8eb7d48f",
   "metadata": {},
   "source": [
    "The confustion matrix is organized as follows:\n",
    "\n",
    "                prediction      \n",
    "               | 1  |  0 |    \n",
    "            --- ---- ----    \n",
    "    actual | 1 | TP | FN | \n",
    "                 ---- ----    \n",
    "    actual | 0 | FP | TN |     "
   ]
  },
  {
   "cell_type": "code",
   "execution_count": 30,
   "id": "5633788b",
   "metadata": {},
   "outputs": [
    {
     "name": "stdout",
     "output_type": "stream",
     "text": [
      "KNN Confusion Matrix:\n",
      " [[ 1096  2222]\n",
      " [  645 11037]]\n",
      "\n",
      "DT Confusion Matrix:\n",
      " [[ 1250  2068]\n",
      " [  647 11035]]\n",
      "\n",
      "SVM Confusion Matrix:\n",
      " [[ 1075  2243]\n",
      " [  470 11212]]\n",
      "\n",
      "RF Confusion Matrix:\n",
      " [[ 1135  2183]\n",
      " [  550 11132]]\n"
     ]
    }
   ],
   "source": [
    "knn_cm = confusion_matrix(results_df['Actual'], results_df['KNN'], labels=[1,0])\n",
    "dt_cm = confusion_matrix(results_df['Actual'], results_df['DT'], labels=[1,0])\n",
    "svm_cm = confusion_matrix(results_df['Actual'], results_df['SVM'], labels=[1,0])\n",
    "rf_cm = confusion_matrix(results_df['Actual'], results_df['RF'], labels=[1,0])\n",
    "\n",
    "print('KNN Confusion Matrix:\\n', knn_cm)\n",
    "print('\\nDT Confusion Matrix:\\n', dt_cm)\n",
    "print('\\nSVM Confusion Matrix:\\n', svm_cm)\n",
    "print('\\nRF Confusion Matrix:\\n', rf_cm)"
   ]
  },
  {
   "cell_type": "markdown",
   "id": "32e556cc",
   "metadata": {},
   "source": [
    "Here, the distribution of predicted values is quite similar for all models. The SVM model has the highest True Negative Rate but the worst True Positive Rate. This is not ideal because the hard task is accurately predicting the minority class, which is the Positive class.\n",
    "\n",
    "The Random Forest model does the best job predicting True Positives and also has the best (least falsely predicted) False Negative Rate. This means that it does the best job of catching those who will default on their credit card payment. \n",
    "\n",
    "This is further explored below:"
   ]
  },
  {
   "cell_type": "markdown",
   "id": "55a0d573",
   "metadata": {},
   "source": [
    "### Analysis Measures"
   ]
  },
  {
   "cell_type": "code",
   "execution_count": 31,
   "id": "6d455f06",
   "metadata": {},
   "outputs": [],
   "source": [
    "def precision(df, col_name):\n",
    "    actual = df.loc[df[col_name] == 1]['Actual']\n",
    "    pred = df.loc[df[col_name] == 1][col_name]\n",
    "    \n",
    "    true_pos = sum(map(lambda x, y: int(x == y), actual, pred))/len(actual)\n",
    "    false_pos = sum(map(lambda x, y: int(x != y), actual, pred))/len(actual)\n",
    "    \n",
    "    return true_pos/(true_pos + false_pos)\n",
    "\n",
    "\n",
    "def recall(df, col_name):\n",
    "    actual = df.loc[df['Actual'] == 1]['Actual']\n",
    "    pred = df.loc[df['Actual'] == 1][col_name]\n",
    "    \n",
    "    true_pos = sum(map(lambda x, y: int(x == y), actual, pred))/len(actual)\n",
    "    false_neg = sum(map(lambda x, y: int(x != y), actual, pred))/len(actual)\n",
    "    \n",
    "    return true_pos/(true_pos + false_neg)\n",
    "\n",
    "\n",
    "def f1(df, col_name):\n",
    "    p = precision(df, col_name)\n",
    "    r = recall(df, col_name)\n",
    "    \n",
    "    return (2 * p * r)/(p + r)"
   ]
  },
  {
   "cell_type": "markdown",
   "id": "44517734",
   "metadata": {},
   "source": [
    "## Calculate the evaluation measures"
   ]
  },
  {
   "cell_type": "code",
   "execution_count": 32,
   "id": "09a1ec6f",
   "metadata": {},
   "outputs": [
    {
     "data": {
      "text/html": [
       "<div>\n",
       "<style scoped>\n",
       "    .dataframe tbody tr th:only-of-type {\n",
       "        vertical-align: middle;\n",
       "    }\n",
       "\n",
       "    .dataframe tbody tr th {\n",
       "        vertical-align: top;\n",
       "    }\n",
       "\n",
       "    .dataframe thead th {\n",
       "        text-align: right;\n",
       "    }\n",
       "</style>\n",
       "<table border=\"1\" class=\"dataframe\">\n",
       "  <thead>\n",
       "    <tr style=\"text-align: right;\">\n",
       "      <th></th>\n",
       "      <th>KNN</th>\n",
       "      <th>DT</th>\n",
       "      <th>SVM</th>\n",
       "      <th>RF</th>\n",
       "    </tr>\n",
       "  </thead>\n",
       "  <tbody>\n",
       "    <tr>\n",
       "      <th>Accuracy</th>\n",
       "      <td>0.809</td>\n",
       "      <td>0.819</td>\n",
       "      <td>0.819</td>\n",
       "      <td>0.818</td>\n",
       "    </tr>\n",
       "    <tr>\n",
       "      <th>Precision</th>\n",
       "      <td>0.630</td>\n",
       "      <td>0.659</td>\n",
       "      <td>0.696</td>\n",
       "      <td>0.674</td>\n",
       "    </tr>\n",
       "    <tr>\n",
       "      <th>Recall</th>\n",
       "      <td>0.330</td>\n",
       "      <td>0.377</td>\n",
       "      <td>0.324</td>\n",
       "      <td>0.342</td>\n",
       "    </tr>\n",
       "    <tr>\n",
       "      <th>F1 Measure</th>\n",
       "      <td>0.433</td>\n",
       "      <td>0.479</td>\n",
       "      <td>0.442</td>\n",
       "      <td>0.454</td>\n",
       "    </tr>\n",
       "  </tbody>\n",
       "</table>\n",
       "</div>"
      ],
      "text/plain": [
       "              KNN     DT    SVM     RF\n",
       "Accuracy    0.809  0.819  0.819  0.818\n",
       "Precision   0.630  0.659  0.696  0.674\n",
       "Recall      0.330  0.377  0.324  0.342\n",
       "F1 Measure  0.433  0.479  0.442  0.454"
      ]
     },
     "execution_count": 32,
     "metadata": {},
     "output_type": "execute_result"
    }
   ],
   "source": [
    "d = {}\n",
    "\n",
    "for col in results_df.columns.to_list()[1:]:\n",
    "    \n",
    "    acc = accuracy(results_df['Actual'], results_df[col])\n",
    "    prec = precision(results_df, col)\n",
    "    rec = recall(results_df, col)\n",
    "    f1m = f1(results_df, col)\n",
    "    \n",
    "    d[col] = np.round([acc, prec, rec, f1m], 3)\n",
    "\n",
    "graph_df = pd.DataFrame(data=d, index=['Accuracy', 'Precision', 'Recall', 'F1 Measure'])\n",
    "graph_df"
   ]
  },
  {
   "cell_type": "code",
   "execution_count": 33,
   "id": "dc59f8e4",
   "metadata": {},
   "outputs": [
    {
     "data": {
      "text/plain": [
       "<Axes: >"
      ]
     },
     "execution_count": 33,
     "metadata": {},
     "output_type": "execute_result"
    },
    {
     "data": {
      "image/png": "[encoded data removed]",
      "text/plain": [
       "<Figure size 640x480 with 1 Axes>"
      ]
     },
     "metadata": {},
     "output_type": "display_data"
    },
    {
     "data": {
      "image/png": "[encoded data removed]",
      "text/plain": [
       "<Figure size 640x480 with 1 Axes>"
      ]
     },
     "metadata": {},
     "output_type": "display_data"
    }
   ],
   "source": [
    "graph_df.plot.bar()\n",
    "graph_df.T.plot.bar(stacked=True)"
   ]
  },
  {
   "cell_type": "markdown",
   "id": "5a50930d",
   "metadata": {},
   "source": [
    "# Final Evaluation\n",
    "\n",
    "All of the models perform quite similarly in accuracy, recall, and f1 measure, \n",
    "which makes them hard to choose between. However, I still see a clear, but slight advantage in one. \n",
    "\n",
    "I would say that the best model to choose is the Decision Tree model. \n",
    "\n",
    "It has the best performance on 3 out of the 4 measures and the highest total score. While it doesn't have the best precision score, it has the **best recall** by far, which is the **most important for our situation**. Financial institutions need to know who will not be able to pay back their credit card bills (default), as this will inform how much money they should lend to customers. They don't want to miss any defaults, as this can lead to great financial risk for the bank.\n",
    "\n",
    "Thus, the Decision Tree model is the chosen model."
   ]
  }
 ],
 "metadata": {
  "kernelspec": {
   "display_name": "Python 3 (ipykernel)",
   "language": "python",
   "name": "python3"
  },
  "language_info": {
   "codemirror_mode": {
    "name": "ipython",
    "version": 3
   },
   "file_extension": ".py",
   "mimetype": "text/x-python",
   "name": "python",
   "nbconvert_exporter": "python",
   "pygments_lexer": "ipython3",
   "version": "3.11.2"
  }
 },
 "nbformat": 4,
 "nbformat_minor": 5
}
