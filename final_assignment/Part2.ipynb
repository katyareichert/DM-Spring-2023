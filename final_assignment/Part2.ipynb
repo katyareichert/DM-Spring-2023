{
 "cells": [
  {
   "cell_type": "markdown",
   "id": "62e815ab",
   "metadata": {},
   "source": [
    "# Data Mining Coursework - Spring 2023\n",
    "\n",
    "Katerina Marie (Katya) Reichert - 33781583\n",
    "\n",
    "I worked and submitted alone :)"
   ]
  },
  {
   "cell_type": "markdown",
   "id": "790c392e",
   "metadata": {},
   "source": [
    "# Part 2 - Credit Risk Analysis\n",
    "\n",
    "This task is based on a real credit risk data, and is to predict a response variable Y which represents a credit card default payment (Yes = 1, No = 0), using the 23 input variables as follows:\n",
    "\n",
    "\n",
    "| Variable | Description |\n",
    "| :- | :- |\n",
    "| X1 | Amount of the given credit (NT dollar): it includes both the individual consumer credit and his/her family (supplementary) credit. |\n",
    "| X2 | Gender (1 = male; 2 = female). |\n",
    "| X3 | Education (1 = graduate school; 2 = university; 3 = high school; 4 = others). |\n",
    "| X4 | Marital status (1 = married; 2 = single; 3 = others). |\n",
    "| X5 | Age (year). |\n",
    "| X6 - X11 | History of past payment. One tracked the past monthly payment records (from April to September, 2005) as follows: X6 = the repayment status in September, 2005; X7 = the repayment status in August, 2005; . . .;X11 = the repayment status in April, 2005. The measurement scale for the repayment status is: -1 = pay duly; 1 = payment delay for one month; 2 = payment delay for two months; . . .; 8 = payment delay for eight months; 9 = payment delay for nine months and above. |\n",
    "| X12 - X17 | Amount of bill statement (NT dollar). X12 = amount of bill statement in September, 2005; X13 = amount of bill statement in August, 2005; . . .; X17 = amount of bill statement in April, 2005. |\n",
    "| X18 - X23 | Amount of previous payment (NT dollar). X18 = amount paid in September, 2005; X19 = amount paid in August, 2005; . . .;X23 = amount paid in April, 2005. |\n",
    "\n",
    "Using Python and any relevant libraries, you are required to build the best predictive model by tuning models using cross validation on the training dataset with each of the following algorithms discussed in this module: k-Nearest Neighbours, Decision Trees, Random Forest, Bagging, AdaBoost, and SVM. Out of the models tuned with the above algorithms, select the best model and clearly justify your choice, and evaluate its performances on the test set."
   ]
  }
 ],
 "metadata": {
  "kernelspec": {
   "display_name": "Python 3 (ipykernel)",
   "language": "python",
   "name": "python3"
  },
  "language_info": {
   "codemirror_mode": {
    "name": "ipython",
    "version": 3
   },
   "file_extension": ".py",
   "mimetype": "text/x-python",
   "name": "python",
   "nbconvert_exporter": "python",
   "pygments_lexer": "ipython3",
   "version": "3.9.12"
  }
 },
 "nbformat": 4,
 "nbformat_minor": 5
}
